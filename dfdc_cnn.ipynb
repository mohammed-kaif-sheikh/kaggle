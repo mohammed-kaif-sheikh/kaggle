{
  "metadata": {
    "kernelspec": {
      "language": "python",
      "display_name": "Python 3",
      "name": "python3"
    },
    "language_info": {
      "name": "python",
      "version": "3.6.6",
      "mimetype": "text/x-python",
      "codemirror_mode": {
        "name": "ipython",
        "version": 3
      },
      "pygments_lexer": "ipython3",
      "nbconvert_exporter": "python",
      "file_extension": ".py"
    },
    "kaggle": {
      "accelerator": "nvidiaTeslaT4",
      "dataSources": [
        {
          "sourceId": 16880,
          "databundleVersionId": 858837,
          "sourceType": "competition"
        },
        {
          "sourceId": 1065734,
          "sourceType": "datasetVersion",
          "datasetId": 591223
        }
      ],
      "dockerImageVersionId": 29845,
      "isInternetEnabled": true,
      "language": "python",
      "sourceType": "notebook",
      "isGpuEnabled": true
    },
    "colab": {
      "name": "dfdc-cnn ",
      "provenance": [],
      "include_colab_link": true
    }
  },
  "nbformat_minor": 0,
  "nbformat": 4,
  "cells": [
    {
      "cell_type": "markdown",
      "metadata": {
        "id": "view-in-github",
        "colab_type": "text"
      },
      "source": [
        "<a href=\"https://colab.research.google.com/github/mohammed-kaif-sheikh/kaggle/blob/main/dfdc_cnn.ipynb\" target=\"_parent\"><img src=\"https://colab.research.google.com/assets/colab-badge.svg\" alt=\"Open In Colab\"/></a>"
      ]
    },
    {
      "source": [
        "\n",
        "# IMPORTANT: RUN THIS CELL IN ORDER TO IMPORT YOUR KAGGLE DATA SOURCES\n",
        "# TO THE CORRECT LOCATION (/kaggle/input) IN YOUR NOTEBOOK,\n",
        "# THEN FEEL FREE TO DELETE THIS CELL.\n",
        "# NOTE: THIS NOTEBOOK ENVIRONMENT DIFFERS FROM KAGGLE'S PYTHON\n",
        "# ENVIRONMENT SO THERE MAY BE MISSING LIBRARIES USED BY YOUR\n",
        "# NOTEBOOK.\n",
        "\n",
        "import os\n",
        "import sys\n",
        "from tempfile import NamedTemporaryFile\n",
        "from urllib.request import urlopen\n",
        "from urllib.parse import unquote, urlparse\n",
        "from urllib.error import HTTPError\n",
        "from zipfile import ZipFile\n",
        "import tarfile\n",
        "import shutil\n",
        "\n",
        "CHUNK_SIZE = 40960\n",
        "DATA_SOURCE_MAPPING = 'deepfake-detection-challenge:https%3A%2F%2Fstorage.googleapis.com%2Fkaggle-competitions-data%2Fkaggle-v2%2F16880%2F858837%2Fbundle%2Farchive.zip%3FX-Goog-Algorithm%3DGOOG4-RSA-SHA256%26X-Goog-Credential%3Dgcp-kaggle-com%2540kaggle-161607.iam.gserviceaccount.com%252F20240527%252Fauto%252Fstorage%252Fgoog4_request%26X-Goog-Date%3D20240527T091320Z%26X-Goog-Expires%3D259200%26X-Goog-SignedHeaders%3Dhost%26X-Goog-Signature%3D687425751274ece962614104fc8ab5528326d1fb4532baf6e54f63b7b43c81b5346100f62a11ae65f3b9c1f8724de1a19702a2a66f0763f41c74acad02acc393eedfa13d0bf28f0db346ce619a80f408c007df656fa0e11e7b4fd2f057a9691e5d7a2f004dcf02f08d909b276d2e0740623e42e6ced6ffdef25a8800e3bb5e563b5674b91196e1689c7846997ea39036d664b155378485f4cfbcaaf26132e60f144795ce8948f09f3ee597add049d338d8c7cf8b8f13fbd99932449db14c35d0b0eb38e07d74f0bb855b993ddc3f1c6b4aa9db70d00e17ad5fa457161fb3ff5f09c3df52964b3a6153b440989159b51106c0f18cbfeeb3176f5cdf15c5262764,dfdc-na:https%3A%2F%2Fstorage.googleapis.com%2Fkaggle-data-sets%2F591223%2F1065734%2Fbundle%2Farchive.zip%3FX-Goog-Algorithm%3DGOOG4-RSA-SHA256%26X-Goog-Credential%3Dgcp-kaggle-com%2540kaggle-161607.iam.gserviceaccount.com%252F20240527%252Fauto%252Fstorage%252Fgoog4_request%26X-Goog-Date%3D20240527T091320Z%26X-Goog-Expires%3D259200%26X-Goog-SignedHeaders%3Dhost%26X-Goog-Signature%3D84266a85bc175aeda8265ea9582e00a12e64e4a39c5706fd54fcb8f403ab66fc0fd25d7ff0177c2e652c95bfe351feb6d04a0806f5c90d8cfa3e0bfdaed3cd41371d2bcc850ea749c4e624deda75ac5292e35748c9cd037cce0e04ad45d6df52fe4b22069acc2310ce49e306831614b7e99af5ee6f3a61b73ff36c81c83a7feb1f4d16ccd0a86cc2801b0db3392005164dd56c253c6b13475b22a7f545da9e3dcee7f38835dae3ae06f2bba6ff2849ecbdaa7f3b9206795cda59070e4d08fede15d08af88c6af3a8054034dc5708f69dc22362590ea89b672e754de353f31039f536746efb9308a3fe7c3a9c511cb497512104430bd9e2ced1ff2d381f646786'\n",
        "\n",
        "KAGGLE_INPUT_PATH='/kaggle/input'\n",
        "KAGGLE_WORKING_PATH='/kaggle/working'\n",
        "KAGGLE_SYMLINK='kaggle'\n",
        "\n",
        "!umount /kaggle/input/ 2> /dev/null\n",
        "shutil.rmtree('/kaggle/input', ignore_errors=True)\n",
        "os.makedirs(KAGGLE_INPUT_PATH, 0o777, exist_ok=True)\n",
        "os.makedirs(KAGGLE_WORKING_PATH, 0o777, exist_ok=True)\n",
        "\n",
        "try:\n",
        "  os.symlink(KAGGLE_INPUT_PATH, os.path.join(\"..\", 'input'), target_is_directory=True)\n",
        "except FileExistsError:\n",
        "  pass\n",
        "try:\n",
        "  os.symlink(KAGGLE_WORKING_PATH, os.path.join(\"..\", 'working'), target_is_directory=True)\n",
        "except FileExistsError:\n",
        "  pass\n",
        "\n",
        "for data_source_mapping in DATA_SOURCE_MAPPING.split(','):\n",
        "    directory, download_url_encoded = data_source_mapping.split(':')\n",
        "    download_url = unquote(download_url_encoded)\n",
        "    filename = urlparse(download_url).path\n",
        "    destination_path = os.path.join(KAGGLE_INPUT_PATH, directory)\n",
        "    try:\n",
        "        with urlopen(download_url) as fileres, NamedTemporaryFile() as tfile:\n",
        "            total_length = fileres.headers['content-length']\n",
        "            print(f'Downloading {directory}, {total_length} bytes compressed')\n",
        "            dl = 0\n",
        "            data = fileres.read(CHUNK_SIZE)\n",
        "            while len(data) > 0:\n",
        "                dl += len(data)\n",
        "                tfile.write(data)\n",
        "                done = int(50 * dl / int(total_length))\n",
        "                sys.stdout.write(f\"\\r[{'=' * done}{' ' * (50-done)}] {dl} bytes downloaded\")\n",
        "                sys.stdout.flush()\n",
        "                data = fileres.read(CHUNK_SIZE)\n",
        "            if filename.endswith('.zip'):\n",
        "              with ZipFile(tfile) as zfile:\n",
        "                zfile.extractall(destination_path)\n",
        "            else:\n",
        "              with tarfile.open(tfile.name) as tarfile:\n",
        "                tarfile.extractall(destination_path)\n",
        "            print(f'\\nDownloaded and uncompressed: {directory}')\n",
        "    except HTTPError as e:\n",
        "        print(f'Failed to load (likely expired) {download_url} to path {destination_path}')\n",
        "        continue\n",
        "    except OSError as e:\n",
        "        print(f'Failed to load {download_url} to path {destination_path}')\n",
        "        continue\n",
        "\n",
        "print('Data source import complete.')\n"
      ],
      "metadata": {
        "id": "XbP6GhgbU3EY"
      },
      "cell_type": "code",
      "outputs": [],
      "execution_count": null
    },
    {
      "cell_type": "code",
      "source": [
        "# Novice Approach to Deepfake Detection Challenge"
      ],
      "metadata": {
        "_uuid": "acfbc7ef-9c6f-4823-8fc6-cb38cf1937ba",
        "_cell_guid": "02c740fe-a262-4dde-8924-b3836e30959b",
        "jupyter": {
          "outputs_hidden": false
        },
        "execution": {
          "iopub.status.busy": "2024-05-26T17:30:28.40103Z",
          "iopub.execute_input": "2024-05-26T17:30:28.401343Z",
          "iopub.status.idle": "2024-05-26T17:30:28.459117Z",
          "shell.execute_reply.started": "2024-05-26T17:30:28.401295Z",
          "shell.execute_reply": "2024-05-26T17:30:28.458239Z"
        },
        "trusted": true,
        "id": "feqFNPUYU3Ep"
      },
      "execution_count": null,
      "outputs": []
    },
    {
      "cell_type": "markdown",
      "source": [
        "## Imports"
      ],
      "metadata": {
        "_uuid": "ed45adf6-19e3-4ece-8c72-0632154b707d",
        "_cell_guid": "37dd78b2-8dd0-45c9-98bc-5c1de124dd8a",
        "heading_collapsed": true,
        "trusted": true,
        "id": "L8Jkeht9U3Es"
      }
    },
    {
      "cell_type": "code",
      "source": [
        "%matplotlib inline\n",
        "%load_ext autoreload\n",
        "%autoreload 2"
      ],
      "metadata": {
        "_uuid": "24256fdf-aeb2-4ad0-9bb7-03ee55b7690d",
        "_cell_guid": "fdd396a8-b919-4b63-91c2-a8b8b2b58371",
        "_kg_hide-input": true,
        "_kg_hide-output": true,
        "hidden": true,
        "jupyter": {
          "outputs_hidden": false
        },
        "execution": {
          "iopub.status.busy": "2024-05-26T17:30:28.460782Z",
          "iopub.execute_input": "2024-05-26T17:30:28.461049Z",
          "iopub.status.idle": "2024-05-26T17:30:28.522499Z",
          "shell.execute_reply.started": "2024-05-26T17:30:28.460998Z",
          "shell.execute_reply": "2024-05-26T17:30:28.521687Z"
        },
        "trusted": true,
        "id": "ilqI_fNiU3Ew"
      },
      "execution_count": null,
      "outputs": []
    },
    {
      "cell_type": "code",
      "source": [
        "import cv2\n",
        "import json\n",
        "import matplotlib.gridspec as gridspec\n",
        "import matplotlib.pyplot as plt\n",
        "import numpy as np\n",
        "import os\n",
        "import pandas as pd\n",
        "from pathlib import Path\n",
        "from skimage.measure import compare_ssim\n",
        "#from skimage.measure import structural_similarity #new\n",
        "from skimage.metrics import structural_similarity\n",
        "from sklearn.metrics import log_loss, classification_report\n",
        "import subprocess\n",
        "import sys\n",
        "import tensorflow as tf\n",
        "import time\n",
        "from tqdm.notebook import tqdm"
      ],
      "metadata": {
        "_uuid": "f06b8a51-0739-410a-a341-3db5de7ba98a",
        "_cell_guid": "11e717c4-97e9-42db-ad36-0f7f60475ec5",
        "_kg_hide-input": true,
        "_kg_hide-output": true,
        "hidden": true,
        "jupyter": {
          "outputs_hidden": false
        },
        "execution": {
          "iopub.status.busy": "2024-05-26T17:30:28.523898Z",
          "iopub.execute_input": "2024-05-26T17:30:28.524197Z",
          "iopub.status.idle": "2024-05-26T17:30:28.584837Z",
          "shell.execute_reply.started": "2024-05-26T17:30:28.524143Z",
          "shell.execute_reply": "2024-05-26T17:30:28.583977Z"
        },
        "trusted": true,
        "id": "NUQdQqTHU3Ez"
      },
      "execution_count": null,
      "outputs": []
    },
    {
      "cell_type": "markdown",
      "source": [
        "## Variables"
      ],
      "metadata": {
        "_uuid": "521fcd54-7b5f-4f39-81fd-fe52c78ebc83",
        "_cell_guid": "03e51509-8279-49a6-9741-73762bb98b9c",
        "heading_collapsed": true,
        "trusted": true,
        "id": "fQ4C3SDuU3E1"
      }
    },
    {
      "cell_type": "code",
      "source": [
        "KAGGLE = os.getenv('KAGGLE_KERNEL_RUN_TYPE') != None\n",
        "\n",
        "PATH = [Path('/home/jupyter/.fastai/data/dfdc'),\n",
        "            Path('/kaggle/input/deepfake-detection-challenge')][KAGGLE]\n",
        "\n",
        "VIDEOS = [PATH/'test/videos', PATH/'test_videos'][KAGGLE]\n",
        "\n",
        "DATASET_DIR = [Path('./dfdc-na'),\n",
        "               Path('/kaggle/input/dfdc-na')][KAGGLE]\n",
        "\n",
        "sys.path.append(str(DATASET_DIR))\n",
        "\n",
        "TPU_NAME = 'dfdc-2'\n",
        "\n",
        "# Scale factor applied to video frames\n",
        "FRAME_SCALE = 1.0\n",
        "\n",
        "# Size of faces to be returned from videos\n",
        "IMAGE_SIZE = (260, 260)\n",
        "\n",
        "BUCKET = None\n",
        "if BUCKET is not None:\n",
        "    from google.cloud import storage\n",
        "    client = storage.Client()\n",
        "    bucket = client.get_bucket(BUCKET)\n",
        "\n",
        "TFRECORD_DIR = [f'gs://{BUCKET}', '.'][1]\n",
        "TFRECORD_PREFIX = 'na_videos_faces'\n",
        "\n",
        "#this is the meta data from the json files with a few extra columns appended\n",
        "df_meta = pd.read_pickle(f'{DATASET_DIR}/df_meta.pkl')\n",
        "df_meta.cluster = df_meta.cluster.astype(np.int64)\n",
        "\n",
        "#these are the bounding box predictions from the detected faces in the original videos\n",
        "df_boxes = pd.read_pickle(f'{DATASET_DIR}/df_boxes.pkl')\n",
        "df_boxes['zip_no'] = df_boxes.index.get_level_values(0).map(df_meta.zip_no)\n",
        "df_boxes['cluster'] = df_boxes.index.get_level_values(0).map(df_meta.cluster)\n",
        "\n",
        "# this filters the boxes to only those of high probability for the purpose of creating\n",
        "# the tranining data\n",
        "df_box_probs = df_boxes.reset_index().groupby(['filename', 'box_idx']).agg({'frame_idx': 'count', 'prob': 'mean'})\n",
        "df_box_probs = df_box_probs[(df_box_probs.prob > 0.98) & (df_box_probs.frame_idx > 15)]\n",
        "\n",
        "# This filters  the test videos to fake videos and their corresponding original videos\n",
        "# in test set so that the book runs with access to only the test videos.\n",
        "test_names = [t.name for t in VIDEOS.glob('*.mp4')]\n",
        "\n",
        "df_test_meta = df_meta.loc[df_meta.index.isin(test_names)\n",
        "                           & df_meta.original.isin(test_names)\n",
        "                           & (df_meta.original.isin(df_box_probs.index.get_level_values(0)))].copy()\n",
        "\n",
        "# this is a simplistic split for illustrative purposes only\n",
        "df_test_meta['test_split'] = np.random.random(len(df_test_meta)) > 0.8\n",
        "df_test_meta.test_split = df_test_meta.test_split.map({True: 'valid', False: 'train'})"
      ],
      "metadata": {
        "_uuid": "01b79605-db9b-4a33-bbcf-7fd0454e4b48",
        "_cell_guid": "f89e974e-78f0-4596-83ec-0a59bfbdba60",
        "_kg_hide-input": true,
        "_kg_hide-output": true,
        "hidden": true,
        "jupyter": {
          "outputs_hidden": false
        },
        "execution": {
          "iopub.status.busy": "2024-05-26T17:30:28.586181Z",
          "iopub.execute_input": "2024-05-26T17:30:28.586462Z",
          "iopub.status.idle": "2024-05-26T17:30:30.613148Z",
          "shell.execute_reply.started": "2024-05-26T17:30:28.586395Z",
          "shell.execute_reply": "2024-05-26T17:30:30.612249Z"
        },
        "trusted": true,
        "id": "jzNyKlLNU3E2"
      },
      "execution_count": null,
      "outputs": []
    },
    {
      "cell_type": "markdown",
      "source": [
        "## Functions"
      ],
      "metadata": {
        "_uuid": "3ad762e5-036a-40ad-b264-7e5e10c120e2",
        "_cell_guid": "95b614ba-416c-492e-9118-d32f7e6d1f0f",
        "heading_collapsed": true,
        "trusted": true,
        "id": "vga7ZMpoU3E5"
      }
    },
    {
      "cell_type": "code",
      "source": [
        "def crop(ndarray, box):\n",
        "    \"\"\"Crops an ndarray to a given bounding box.\"\"\"\n",
        "    new_nd_array = np.zeros(ndarray.shape)\n",
        "    left, upper, right, lower = tuple(map(lambda x: int(max(0, x)), box))\n",
        "    return ndarray[slice(upper, lower),slice(left, right),:]\n",
        "\n",
        "def iou(pred_record):\n",
        "    m = tf.keras.metrics.MeanIoU(num_classes=2)\n",
        "    m.update_state(pred_record.mask_actual,\n",
        "                   pred_record.mask_pred)\n",
        "    return m.result().numpy()\n",
        "\n",
        "def get_fake_faces(vid_name, idxs=None, n_frames=None, orig_vid=None, box_idx=0):\n",
        "    \"\"\"Returns records of faces from fake videos.\"\"\"\n",
        "    if orig_vid is None:\n",
        "        orig_name = df_meta.loc[vid_name].original\n",
        "        orig_frames, orig_idxs = get_frames(orig_name, n_frames=n_frames, idxs=idxs)\n",
        "    else:\n",
        "        orig_name, orig_frames, orig_idxs = orig_vid\n",
        "\n",
        "    vid_frames, idxs = get_frames(vid_name, idxs=orig_idxs)\n",
        "    orig_boxes = df_boxes.loc[orig_name]\n",
        "    orig_boxes = orig_boxes.loc[orig_boxes.index.get_level_values(1)==box_idx]\n",
        "\n",
        "    # makes it possible to get boxes from frames different than the\n",
        "    # original ones that are in the df_boxes dataframe\n",
        "    vid_boxes = pd.merge_asof(pd.Series(idxs, name='new_frame_idx'),\n",
        "                     orig_boxes, left_on='new_frame_idx',\n",
        "                     right_on='frame_idx', direction='nearest').set_index('new_frame_idx')\n",
        "\n",
        "    faces_list = []\n",
        "    for frame_idx, frame, orig_frame in zip(idxs, vid_frames, orig_frames):\n",
        "        orig_box = scale_box(vid_boxes.loc[frame_idx].square_box)\n",
        "        box = scale_center_box(orig_box)\n",
        "\n",
        "        face = crop(frame, box)\n",
        "        orig_face = crop(orig_frame, box)\n",
        "\n",
        "        thresh = get_thresh(face, orig_face)\n",
        "\n",
        "        face_mask = resize_pad_square(thresh, IMAGE_SIZE[0])\n",
        "        face_mask = np.ndarray.astype(face_mask > 1, np.bool)\n",
        "        mask_rle = dense_to_brle(face_mask.flatten())\n",
        "        fake_face = resize_pad_square(face, IMAGE_SIZE[0])\n",
        "        real_face = resize_pad_square(orig_face, IMAGE_SIZE[0])\n",
        "\n",
        "        faces_list.append({'face': fake_face,\n",
        "                           'orig_face': real_face,\n",
        "                           'mask_rle': mask_rle,\n",
        "                           'mask': face_mask,\n",
        "                           'frame_idx': frame_idx,\n",
        "                           'scale': FRAME_SCALE,\n",
        "                           'name': vid_name,\n",
        "                           'orig_name': orig_name,\n",
        "                           'box': list(box),\n",
        "                           'box_idx': box_idx,\n",
        "                           'label': df_meta.loc[vid_name].label,\n",
        "                           'label_code': df_meta.loc[vid_name].label_code,\n",
        "                           'cluster': df_meta.loc[vid_name].cluster,\n",
        "                           'zip_no': df_meta.loc[vid_name].zip_no\n",
        "                          })\n",
        "\n",
        "    return faces_list\n",
        "\n",
        "def get_frames(vid_name, n_frames=20, start_frame=0, end_frame=None, idxs=None):\n",
        "    \"\"\"Get frames from a given video name.\"\"\"\n",
        "    vid_path = str(VIDEOS/vid_name)\n",
        "\n",
        "    v_cap = FileVideoStream(vid_path, n_frames=n_frames,\n",
        "                            start_frame=start_frame, end_frame=end_frame,\n",
        "                            idxs=idxs,transform=transform).start()\n",
        "    frames = []\n",
        "    while v_cap.running():\n",
        "        frame, idx = v_cap.read()\n",
        "        frames.append(frame)\n",
        "    return frames, v_cap.idxs\n",
        "\n",
        "def get_real_faces(vid_name, n_frames=None, idxs=None, box_idx=0):\n",
        "    \"\"\"Returns records of faces from real videos.\"\"\"\n",
        "    vid_frames, idxs = get_frames(vid_name, idxs=idxs, n_frames=n_frames)\n",
        "    orig_boxes = df_boxes.loc[vid_name]\n",
        "    orig_boxes = orig_boxes.loc[orig_boxes.index.get_level_values(1)==box_idx]\n",
        "\n",
        "    # makes it possible to get boxes from frames different than the\n",
        "    # original ones that are in the df_boxes dataframe\n",
        "    vid_boxes = pd.merge_asof(pd.Series(idxs, name='new_frame_idx'),\n",
        "                     orig_boxes, left_on='new_frame_idx',\n",
        "                     right_on='frame_idx', direction='nearest').set_index('new_frame_idx')\n",
        "\n",
        "    faces_list = []\n",
        "    for frame_idx, orig_frame in zip(idxs, vid_frames):\n",
        "        box = scale_box(vid_boxes.loc[frame_idx].square_box)\n",
        "        box = scale_center_box(box)\n",
        "\n",
        "        face = crop(orig_frame, box)\n",
        "        face = resize_pad_square(face, IMAGE_SIZE[0])\n",
        "        mask_rle = np.array((0, IMAGE_SIZE[0] * IMAGE_SIZE[1]), np.int64)\n",
        "\n",
        "        faces_list.append({'face': face,\n",
        "                           'mask_rle': mask_rle,\n",
        "                           'frame_idx': frame_idx,\n",
        "                           'scale': FRAME_SCALE,\n",
        "                           'name': vid_name,\n",
        "                           'orig_name': vid_name,\n",
        "                           'box': list(box),\n",
        "                           'box_idx': box_idx,\n",
        "                           'label': df_meta.loc[vid_name].label,\n",
        "                           'label_code': df_meta.loc[vid_name].label_code,\n",
        "                           'cluster': df_meta.loc[vid_name].cluster,\n",
        "                           'zip_no': df_meta.loc[vid_name].zip_no\n",
        "                          })\n",
        "\n",
        "    return faces_list\n",
        "\n",
        "def get_thresh(frame, orig_frame, min_diff=210):\n",
        "    \"\"\"Returns a thresholded difference between two rgb images.\"\"\"\n",
        "    frame_gray = cv2.cvtColor(frame, cv2.COLOR_RGB2GRAY)\n",
        "    orig_frame_gray = cv2.cvtColor(orig_frame, cv2.COLOR_BGR2GRAY)\n",
        "    (score, diff) = compare_ssim(frame_gray, orig_frame_gray, full=True)\n",
        "    diff = (diff * 255).astype(\"uint8\")\n",
        "    thresh = cv2.threshold(diff, min_diff, 255, cv2.THRESH_BINARY_INV)[1]\n",
        "    return thresh\n",
        "\n",
        "def plot_learning_curves(history):\n",
        "    \"\"\"Plots losses and metrics from keras model.fit object.\"\"\"\n",
        "    pd.DataFrame(history.history).plot(figsize=(8, 5))\n",
        "    plt.grid(True)\n",
        "    plt.gca().set_ylim(0, 1)\n",
        "    plt.show()\n",
        "\n",
        "def print_output(output):\n",
        "    \"\"\"Prints output from string.\"\"\"\n",
        "    for l in output.split('\\n'):\n",
        "        print(l)\n",
        "\n",
        "def print_pred_metrics(label_actual, label_pred, pred_prob):\n",
        "    \"\"\"Prints prediction evaluation metrics and report.\"\"\"\n",
        "    print(f'log loss: {log_loss(label_actual, pred_prob.clip(0.001, 0.999))}')\n",
        "    print(classification_report(label_actual, label_pred))\n",
        "    print(pd.crosstab(label_actual, label_pred, margins=True))\n",
        "\n",
        "def resize_pad_square(ndarray, size, box=None):\n",
        "    \"\"\"Crops ndarray to box if provided, pads square and then resizes to square size.\"\"\"\n",
        "    if box != None:\n",
        "        left, upper, right, lower = box\n",
        "        new_ndarray = ndarray.copy()[max(upper,0):lower, max(left,0):right]\n",
        "    else:\n",
        "        new_ndarray = ndarray.copy()\n",
        "\n",
        "    # pad square\n",
        "    r, c = new_ndarray.shape[:2]\n",
        "    left_pad = top_pad = right_pad = bottom_pad = 0\n",
        "\n",
        "    if r < c:\n",
        "        top_pad = int((c - r) // 2)\n",
        "        bottom_pad = int(c - r - top_pad)\n",
        "    if c < r:\n",
        "        left_pad = int((r - c) // 2)\n",
        "        right_pad = int(r - c - left_pad)\n",
        "\n",
        "    if sum((left_pad, top_pad, right_pad, bottom_pad)) > 0:\n",
        "        pads = ((top_pad, bottom_pad), (left_pad, right_pad), (0,0))\n",
        "\n",
        "        if np.ndim(new_ndarray) == 2:\n",
        "            pads = pads[:2]\n",
        "\n",
        "        new_ndarray = np.pad(new_ndarray, pads, mode='reflect')\n",
        "\n",
        "    # resize\n",
        "    shrink = min(new_ndarray.shape[:2]) < size\n",
        "    interpolation = cv2.INTER_AREA if shrink else cv2.INTER_LINEAR\n",
        "\n",
        "    resized_array = cv2.resize(new_ndarray, (size,size), interpolation=interpolation)\n",
        "\n",
        "    return resized_array\n",
        "\n",
        "def run_command(command):\n",
        "    \"\"\"Runs command line command as a subprocess returning output as string.\"\"\"\n",
        "    STDOUT = subprocess.PIPE\n",
        "    process = subprocess.run(command, shell=True, check=False,\n",
        "                             stdout=STDOUT, stderr=STDOUT, universal_newlines=True)\n",
        "    return process.stdout\n",
        "\n",
        "def scale_box(box):\n",
        "    \"\"\"Used to adjust scale of box to apply to frame scaled by specified factor.\"\"\"\n",
        "    return tuple(map(lambda x: int(x * FRAME_SCALE), box))\n",
        "\n",
        "def scale_center_box(box, scale=1.3):\n",
        "    \"\"\"Scales box by specified factor about its center.\"\"\"\n",
        "    left, upper, right, lower = box\n",
        "    row_delta = int((lower - upper) * (1 - scale) / 2)\n",
        "    col_delta = int((right - left) * (1 - scale) / 2)\n",
        "    left += col_delta\n",
        "    right -= col_delta\n",
        "    upper += row_delta\n",
        "    lower -= row_delta\n",
        "    return left, upper, right, lower\n",
        "\n",
        "def show_images(imgs, titles=None, hw=(4,6), rc=(3,3)):\n",
        "    \"\"\"Show list of images with optiona list of titles.\"\"\"\n",
        "    h, w = hw\n",
        "    r, c = rc\n",
        "    fig=plt.figure(figsize=(w*c, h*r))\n",
        "    gs1 = gridspec.GridSpec(r, c, fig, hspace=0.2, wspace=0.05)\n",
        "    for i in range(r*c):\n",
        "        img = imgs[i].squeeze()\n",
        "        ax = fig.add_subplot(gs1[i])\n",
        "        if titles != None:\n",
        "            ax.set_title(titles[i], {'fontsize': 10})\n",
        "        plt.imshow(img)\n",
        "        plt.axis('off')\n",
        "    plt.show()\n",
        "\n",
        "def show_pred(r):\n",
        "    \"\"\"Show segmentation prediction.\"\"\"\n",
        "    print(r.name, f'label: {r.label}', f'prob: {r.prob:0.4f}', f'iou: {r.iou:0.4f}')\n",
        "    show_images([r.face, r.mask_actual, r.mask_pred],\n",
        "                ['face', 'actual mask', 'predicted_mask'], hw=(3,3), rc=(1,3))\n",
        "\n",
        "def transform(frame):\n",
        "    \"\"\"Transform applied to frames returned from FileVideoStream.\"\"\"\n",
        "    frame = cv2.cvtColor(frame, cv2.COLOR_BGR2RGB)\n",
        "    h = int(frame.shape[0] * FRAME_SCALE)\n",
        "    w = int(frame.shape[1] * FRAME_SCALE)\n",
        "    frame = cv2.resize(frame, (w,h))\n",
        "    return frame"
      ],
      "metadata": {
        "_uuid": "ee52f4a8-f215-44d8-ad50-dcb7bf9dc491",
        "_cell_guid": "9efa9816-8f8c-4919-8b90-da3b4181c480",
        "_kg_hide-input": true,
        "_kg_hide-output": true,
        "hidden": true,
        "hide_input": false,
        "jupyter": {
          "outputs_hidden": false
        },
        "execution": {
          "iopub.status.busy": "2024-05-26T17:30:30.615669Z",
          "iopub.execute_input": "2024-05-26T17:30:30.61591Z",
          "iopub.status.idle": "2024-05-26T17:30:30.735941Z",
          "shell.execute_reply.started": "2024-05-26T17:30:30.615869Z",
          "shell.execute_reply": "2024-05-26T17:30:30.73502Z"
        },
        "trusted": true,
        "id": "mmk-pjjsU3E6"
      },
      "execution_count": null,
      "outputs": []
    },
    {
      "cell_type": "markdown",
      "source": [
        "## More Imports"
      ],
      "metadata": {
        "_uuid": "3bd9431d-6cc4-4465-8788-3982e8f2841c",
        "_cell_guid": "1212d34f-bbbf-4be4-afec-cea374088b43",
        "heading_collapsed": true,
        "trusted": true,
        "id": "lPo_nv8YU3E-"
      }
    },
    {
      "cell_type": "code",
      "source": [
        "if KAGGLE:\n",
        "    for package in ['classification_models', 'segmentation_models',\n",
        "                    'efficientnet', 'run_length_encoding']:\n",
        "        print_output(run_command(f\"pip install {str(DATASET_DIR/package)}\"))"
      ],
      "metadata": {
        "_uuid": "b4572f66-f081-497b-98fd-6abad0dbbf22",
        "_cell_guid": "f2f69b59-6026-44eb-b65b-943bbf6c77a7",
        "_kg_hide-input": true,
        "_kg_hide-output": true,
        "hidden": true,
        "jupyter": {
          "outputs_hidden": false
        },
        "execution": {
          "iopub.status.busy": "2024-05-26T17:30:30.738873Z",
          "iopub.execute_input": "2024-05-26T17:30:30.739182Z",
          "iopub.status.idle": "2024-05-26T17:30:59.949863Z",
          "shell.execute_reply.started": "2024-05-26T17:30:30.73913Z",
          "shell.execute_reply": "2024-05-26T17:30:59.948835Z"
        },
        "trusted": true,
        "id": "mPsZw2bGU3E_"
      },
      "execution_count": null,
      "outputs": []
    },
    {
      "cell_type": "markdown",
      "source": [],
      "metadata": {
        "_uuid": "06cf24b8-a3c8-4d32-9ea0-dcaf02a9491e",
        "_cell_guid": "850ed39e-7845-4435-a6c3-0fed104a1df9",
        "trusted": true,
        "id": "bcvm0RfiU3FA"
      }
    },
    {
      "cell_type": "code",
      "source": [
        "sys.path.append(str(DATASET_DIR))\n",
        "sys.path.append(str(DATASET_DIR/'vggface2_Keras/src'))\n",
        "\n",
        "from efficientnet import tfkeras as efn\n",
        "from filevideostream_na import FileVideoStream\n",
        "from rle.tf_impl import brle_to_dense\n",
        "from rle.np_impl import dense_to_brle, rle_length\n",
        "\n",
        "import segmentation_models as sm\n",
        "sm.set_framework('tf.keras')\n",
        "\n",
        "from vggface2_Keras.src.model import Vggface2_ResNet50"
      ],
      "metadata": {
        "_uuid": "05e62315-b47f-4519-a789-772a975cedeb",
        "_cell_guid": "b540ecaf-d8ff-416c-82ea-fb37c0551220",
        "_kg_hide-input": true,
        "_kg_hide-output": true,
        "hidden": true,
        "jupyter": {
          "outputs_hidden": false
        },
        "execution": {
          "iopub.status.busy": "2024-05-26T17:30:59.951983Z",
          "iopub.execute_input": "2024-05-26T17:30:59.952296Z",
          "iopub.status.idle": "2024-05-26T17:31:00.369915Z",
          "shell.execute_reply.started": "2024-05-26T17:30:59.952238Z",
          "shell.execute_reply": "2024-05-26T17:31:00.369178Z"
        },
        "trusted": true,
        "id": "NVIN49y6U3FB"
      },
      "execution_count": null,
      "outputs": []
    },
    {
      "cell_type": "markdown",
      "source": [
        "# Overview"
      ],
      "metadata": {
        "_uuid": "e53718e4-2848-4a17-a678-e1ce956f60eb",
        "_cell_guid": "df3b95c0-4387-43cf-9024-3f8395cf4bdd",
        "trusted": true,
        "id": "yz_J2nHhU3FC"
      }
    },
    {
      "cell_type": "markdown",
      "source": [
        "I spent more hours than I'd care to disclose competing in this challenge. I wasn't able to create a model on my own that produced a good leaderboard score. I did, however, learn a ton about creating data pipelines, Tensorflow and TPUs and trained a lot of models. In an effort to solidify my learnings and in hopes of passing along something useful from my trials and tribulations, this book provides a few details on my approach to key parts of the challenge.\n",
        "\n",
        "I thought using TPUs would potentially be a competitive advantage in this competition given the large size of the dataset. Thank you Google for the generous grant, which once getting past the learning curve of tfrecords, definitely led to faster training and idea-iteration.\n",
        "\n",
        "**training and validation splits**\n",
        "\n",
        "Developing good training and validation datasets were important elements of this challenge. I tried to develop a training set comprised of correctly labeled faces, meaning that if they were labeled as fake, they in fact had altereed pixels in them (I didn't do anything with the audio). For the training and validation splits, I also wanted to create sets that were independent with respect to actor. I used some simplistic approaches early on and then a clustering analysis provided in [this kernel](https://www.kaggle.com/hmendonca/proper-clustering-with-facenet-embeddings-eda).\n",
        "\n",
        "**tfrecords**\n",
        "\n",
        "The first section below details my tfrecod set up, which ended up being really cool. [Tfrecords](https://www.tensorflow.org/tutorials/load_data/tfrecord) are basically serialized training examples that can be read back into [tf.data.Datasets](https://www.tensorflow.org/api_docs/python/tf/data/Dataset) super efficiently. In order to use TPUs, you create tfrecords and store them on gcs so they can be fed to the TPUs. For my tfrecord set up, I created a single tfrecord for each face detected in each video, storing each face from each frame of the video as a sequence.\n",
        "\n",
        "**datasets**\n",
        "\n",
        "The second section focuses on the datasets that get created from the tfrecords. I really enjoyed the [tf.data.Datasets](https://www.tensorflow.org/api_docs/python/tf/data/Dataset) api. It made it really easy to do thinks like balancing the datasets between fake and real examples, perform augmentation and preprocessing. It also made it possible to use a single set of tfrecords to feed single face cnn, sequence and segmentation models.\n",
        "\n",
        "**models**\n",
        "\n",
        "The third section provides basic versions of the three types of models I used. There is really nothing special in the first two, a single face cnn and an multi-face LSTM. I used the excellent Efficientnet implementatios in the [qubvel/efficientnet](https://github.com/qubvel/efficientnet) repo for the cnn. I also tried using a pretrained resnet50 model trained on the vggface2 dataset from [WeidiXie/\n",
        "Keras-VGGFace2-ResNet50](https://github.com/WeidiXie/Keras-VGGFace2-ResNet50), unfreezing the weights in the last convolution block, as illustrated in the LSTM example.\n",
        "\n",
        "The third model I tried was the one I was most optimistic about, but in the end couldn't make it work. The idea was to create segmentation masks showing the altered pixels in the fake faces by thresholding the difference between the original and fake frames and then train a segmentation model to detect the altered pixels. My thinking was that this was valuable additional information the model could use to develop relationships beyond simple binary classification. I used the excelellent implementation of a Unet with Efficientnet encoder in the [qubvel/segmentation_models](https://github.com/qubvel/segmentation_models) repo. I added a few additional layers after the segmentation output to calculate the binary classification loss and then weighted the segmentation loss and the binary classification loss. I thought this might actually help get to a better binary classification model by focusing the model's attention on the altered pixels and that it would also be useful to get predictions of which pixels were fake in addition a prediction of binary classification."
      ],
      "metadata": {
        "_uuid": "e2e49aaa-0c19-471d-a45c-c4d513eec8b0",
        "_cell_guid": "f6b3f226-761d-4f0d-8a10-4eb0be3532d8",
        "trusted": true,
        "id": "yl6xMMXOU3FC"
      }
    },
    {
      "cell_type": "code",
      "source": [
        "fake_name = df_test_meta[df_test_meta.label == 'FAKE'].index[0]\n",
        "\n",
        "frame_idxs = [0, 30, 60, 90]\n",
        "faces = get_fake_faces(fake_name, idxs=frame_idxs)\n",
        "\n",
        "face_list = []\n",
        "title_list = []\n",
        "for n in range(len(frame_idxs)):\n",
        "    face = faces[n]\n",
        "    keys = ['orig_face', 'face', 'mask']\n",
        "    title_list.extend([f\"fram: {face['frame_idx']}, box: {face['box_idx']} - {key[:4]}\" for key in keys])\n",
        "    face_list.extend([faces[n][key] for key in keys])\n",
        "\n",
        "show_images(face_list, title_list, hw=(3,3), rc=(2,6))"
      ],
      "metadata": {
        "_uuid": "53fdfbf0-b5ba-4562-8698-d3c6f78baeb5",
        "_cell_guid": "7446a5ef-227a-4a10-8d56-ee39eef2babb",
        "_kg_hide-input": true,
        "hide_input": true,
        "jupyter": {
          "outputs_hidden": false
        },
        "execution": {
          "iopub.status.busy": "2024-05-26T17:31:00.37106Z",
          "iopub.execute_input": "2024-05-26T17:31:00.371313Z",
          "iopub.status.idle": "2024-05-26T17:31:02.93665Z",
          "shell.execute_reply.started": "2024-05-26T17:31:00.37127Z",
          "shell.execute_reply": "2024-05-26T17:31:02.93581Z"
        },
        "trusted": true,
        "id": "FmS9XctMU3FD"
      },
      "execution_count": null,
      "outputs": []
    },
    {
      "cell_type": "markdown",
      "source": [
        "**predictions**\n",
        "\n",
        "The last section details my approach to predictions. A couple of things worth noting. First off, the determination of a video's classification from potentially multiple faces from multiple frames was not as straightforward as simply taking the average of all of the predictions for a given video. The predictions roll up from a face detected in a frame through multiple frames and ultimately lead to a prediction for a video. I ended up pulling faces from 16 frames per video and then deciding that a video would be predicted as fake if at least three faces were predicted as such with a probability of at least 80%. I then converted that back into a probability that a video was fake for purposes of the log loss evaluation by dividing the actual number of faces over 80% by 4.5, such that a video with three frames over the 80% threshold would be considered to be fake with 67% probability and a video with 1 face over 80% would be considered to have a 22% probability of being fake.\n",
        "\n",
        "I only provide predictions for the segmentation model. Again, I couldn't make the results work, but the predictions are really cool in a lot of cases, highlighting where the faces are fake in addition to predicting whether the video is fake.\n",
        "\n",
        "**results and key learnings**\n",
        "\n",
        "The best leaderboard score I could produce was in excess of 0.5. I was really committed to not just copying kernels with better scores and running them, but really building my own pipelines and models. I would do this differently going forward.\n",
        "\n",
        "I tried a ton of different models and datasets. I tried tightly cropped faces versus loosely cropped and even whole frame models. I tried single frame models with only one fake video per original. I tried overweighting the real videos. I tried sequences of frames from short durations of the videos as well as spread throughout the videos. I tried different pretrained weights, including vggface, vggface2 and imagenet. I tried different cnn models, from Resnet50 to different Efficientnets. I tried training my own version of an Efficientnet model on the vggface2 dataset. I tried large batch sizes, small batch sizes, freezing weights and unfreezing weights. I could never seem to make anything produce a good validation result.\n",
        "\n",
        "On the one hand, all of those iterations were incredibly useful in just learning how to go from raw data to training a model and making predictions. On the other hand, clearly other people were figuring out how to make models work. There were obviously things I was missing or doing incorrectly that were preventing me from achieving good results. With that in mind, here is what I would have done differently in hindsight.\n",
        "\n",
        "1. I would have taken a **hybrid approach to learning from other kernels**, taking down the ones with better scores, really dissecting them to understand how they were working, and then endeavoring to recreate my own versions, especially as a novice.\n",
        "2. I would have spent more time **making sure that I had a really good validation set**. I used a couple of simplistic splits early on and then someone else's cluster analysis to approximate actor mutual exclusivity, but I was never really confident that I had a great validation set. Consequently as I was training models and watching validation results closely, I always had some doubt about whether I could trust them. Given the number of decision to make, it is really important to be able to trust your validation results, especially given the limit of two leaderboard submissions per day.\n",
        "3. I would do **more testing of my data pipeline**. There was a lot going on between the mp4 video files and the batches of training examples being fed into the models. My initial operating procedure was to write the code for the dataset that I wanted to create, then print out a few batches and if they looked basically right, send them through the model. That obviously leaves a lot of uncertainty as to whether the data that you think is running through the model is actually running through the model. Later in my develop cycle, I started doing more quantitative testing. Real-fake, original video and actor distribution within the dataset all ended up being important considerations, so I would cycle through the dataset to check the actual distribution within batches and across the entire dataset. The pipeline itself also had a lot of moving parts, that frequently broke as I was adding new features and trying new ideas. Having something akin to unit tests would have been much more efficient in the end.\n",
        "4. I would **try joining a team**. Going it alone is obviously beneficial from the standpoint of learning by having to do everything, but as a complete novice, there is a ton to learn and being able to learn some of the basics from people who have done it successfully before is ultimately likely a much faster way to get up the learning curve."
      ],
      "metadata": {
        "_uuid": "fff96e12-1338-4617-987e-0a00c101a4b1",
        "_cell_guid": "ef5f2278-20a5-4ab9-91bb-c94d68b9a99f",
        "trusted": true,
        "id": "0qpRDd2jU3FE"
      }
    },
    {
      "cell_type": "markdown",
      "source": [
        "# Training and validation splits"
      ],
      "metadata": {
        "_uuid": "280b0b4c-8830-491b-8afe-8ee62606d22e",
        "_cell_guid": "b9175741-11d1-4a00-8e78-f3170de9770f",
        "trusted": true,
        "id": "u41mlMFuU3FF"
      }
    },
    {
      "cell_type": "markdown",
      "source": [
        "Creating a good training dataset turned out to be a non-trivial exercise, even for models based on frames without detecting faces. The first challenge was that the meta data didn't identify the actor in the original video, so it wasn't possible to create training and validation splits that were mutually exclusive with respect to actors based on the unique original video name. I ended up using the clustering analysis done in [this kernel](https://www.kaggle.com/hmendonca/proper-clustering-with-facenet-embeddings-eda), which essentially used a face recognition model to get an embedding for each original video and then performed an analysis to assign each to one of 700 some odd clusters. The histogram below shows the number of clusters containing the number of videos specified on the x axis."
      ],
      "metadata": {
        "_uuid": "04a3adf3-6321-4f0e-9e45-8fe5299461de",
        "_cell_guid": "f32c7e35-835f-4e71-93a3-27fe2a84f8a8",
        "trusted": true,
        "id": "n0_qoZCSU3FF"
      }
    },
    {
      "cell_type": "code",
      "source": [
        "df_clusters = pd.read_feather(str(DATASET_DIR/'face_clusters.feather'))\n",
        "df_clusters.cluster.value_counts().hist(bins=list(range(0,100)));"
      ],
      "metadata": {
        "_uuid": "3cfc353a-8dee-4eb6-ba08-02dab5ecaa82",
        "_cell_guid": "83f53f92-3627-41ba-9827-bb4a6cee35ae",
        "_kg_hide-input": true,
        "hide_input": true,
        "jupyter": {
          "outputs_hidden": false
        },
        "execution": {
          "iopub.status.busy": "2024-05-26T17:31:02.938046Z",
          "iopub.execute_input": "2024-05-26T17:31:02.938441Z",
          "iopub.status.idle": "2024-05-26T17:31:03.665658Z",
          "shell.execute_reply.started": "2024-05-26T17:31:02.938375Z",
          "shell.execute_reply": "2024-05-26T17:31:03.664601Z"
        },
        "trusted": true,
        "id": "SdTZYS2rU3FG"
      },
      "execution_count": null,
      "outputs": []
    },
    {
      "cell_type": "markdown",
      "source": [
        "The median number of videos per cluster was 10 and there was one cluster with 464 entries in it. I ended up selecting a validation set of approximately 1900 original videos by selecting all clusters with less than 15, but more than five videos in it. Each of the rows below is a separate cluster with each column in each row a face from a different video in the cluster. The clustering looked like it did a decent job of identifying the actor in each video."
      ],
      "metadata": {
        "_uuid": "36bb0d8b-59ca-4adb-aa7e-01194f4c4daf",
        "_cell_guid": "7e947538-ee85-4cd7-a85c-3bc10991792b",
        "hide_input": true,
        "trusted": true,
        "id": "qUHSVpyzU3FH"
      }
    },
    {
      "cell_type": "code",
      "source": [
        "face_list = []\n",
        "title_list = []\n",
        "rows, cols = (6,8)\n",
        "for c in range(rows):\n",
        "    cluster = (df_test_meta[df_test_meta.label == 'REAL']\n",
        "               .groupby(['cluster'])\n",
        "               .count()['label_code']\n",
        "               .sort_values(ascending=False)\n",
        "              ).index[c]\n",
        "\n",
        "    for v in range(cols):\n",
        "        vid_name = df_test_meta.loc[(df_test_meta.cluster == cluster) & (df_test_meta.label == 'REAL')].index[v]\n",
        "        faces = get_real_faces(vid_name, idxs=[0])\n",
        "        face = faces[0]['face']\n",
        "        title = f'{cluster}: {vid_name[:-4]}'\n",
        "        title_list.append(title)\n",
        "        face_list.append(face)\n",
        "\n",
        "show_images(face_list, title_list, hw=(2,2), rc=(rows,cols))"
      ],
      "metadata": {
        "_uuid": "4fce0f7a-2fb1-40a4-bdb5-190c5727ef36",
        "_cell_guid": "039f47a0-879f-4f42-b49d-8401c18f0bb5",
        "_kg_hide-input": true,
        "hide_input": true,
        "jupyter": {
          "outputs_hidden": false
        },
        "execution": {
          "iopub.status.busy": "2024-05-26T17:31:03.667239Z",
          "iopub.execute_input": "2024-05-26T17:31:03.667738Z",
          "iopub.status.idle": "2024-05-26T17:31:13.800183Z",
          "shell.execute_reply.started": "2024-05-26T17:31:03.667684Z",
          "shell.execute_reply": "2024-05-26T17:31:13.799242Z"
        },
        "trusted": true,
        "id": "ddPH1leRU3FH"
      },
      "execution_count": null,
      "outputs": []
    },
    {
      "cell_type": "markdown",
      "source": [
        "Another set of challenges to establishing a high quality training dataset were related to the labels of the videos. Not every video labeled as fake actually had altered pixels. Furthermore, some fake videos had some modified frames, and some that were not modified. Lastly, in videos that had more than one face, not all of the faces had modified pixels.\n",
        "\n",
        "The faces from the video below illustrate these challenges, where the face from one of the frames has been modified, but the other hasn't. This set of faces also illustrates another, more fundamental challenge that I didn't solve, that of grouping faces of the same person together in sequence. You can see on the first row with faces on the left from box 0 on frame 0 and faces on the right from box 0 on frame 180. In videos with more than one face. Time permitting, I would have run each face through a face identification model, getting an embedding back and then group faces across frames by minimizing the distance from the embedding for the faces from the first frame."
      ],
      "metadata": {
        "_uuid": "4308590a-b800-4c66-846c-09b25b89d73e",
        "_cell_guid": "68a79d5d-5672-4ff2-8a47-615bf040ee39",
        "trusted": true,
        "id": "KbaV5Ef8U3FI"
      }
    },
    {
      "cell_type": "code",
      "source": [
        "orig_name = df_box_probs[df_box_probs.index.get_level_values(0)\n",
        "                         .isin(df_test_meta.index) & (df_box_probs.index.get_level_values(1) == 1)].index[2][0]\n",
        "\n",
        "for box_idx in range(2):\n",
        "    fake_vid_name = df_test_meta[(df_test_meta.label == 'FAKE') & (df_test_meta.original == orig_name)].index[0]\n",
        "    frame_idxs = [0, 180]\n",
        "    faces = get_fake_faces(fake_vid_name, idxs=frame_idxs, box_idx=box_idx)\n",
        "\n",
        "    face_list = []\n",
        "    title_list = []\n",
        "    for n in range(len(frame_idxs)):\n",
        "        face = faces[n]\n",
        "        keys = ['orig_face', 'face', 'mask']\n",
        "        title_list.extend([f\"fram: {face['frame_idx']}, box: {face['box_idx']} - {key[:4]}\" for key in keys])\n",
        "        face_list.extend([faces[n][key] for key in keys])\n",
        "\n",
        "    show_images(face_list, title_list, hw=(3,3), rc=(1,6))"
      ],
      "metadata": {
        "_uuid": "3da789b3-7a2d-4c70-9336-34f126f05b52",
        "_cell_guid": "2f2c1dd7-cdfa-448c-94d2-a66e5f65f65a",
        "_kg_hide-input": true,
        "hide_input": true,
        "jupyter": {
          "outputs_hidden": false
        },
        "execution": {
          "iopub.status.busy": "2024-05-26T17:31:13.801715Z",
          "iopub.execute_input": "2024-05-26T17:31:13.802008Z",
          "iopub.status.idle": "2024-05-26T17:31:18.105094Z",
          "shell.execute_reply.started": "2024-05-26T17:31:13.801947Z",
          "shell.execute_reply": "2024-05-26T17:31:18.103937Z"
        },
        "trusted": true,
        "id": "dbfQ5NRIU3FI"
      },
      "execution_count": null,
      "outputs": []
    },
    {
      "cell_type": "markdown",
      "source": [
        "# tfrecords"
      ],
      "metadata": {
        "_uuid": "73c79ce8-bc8b-4715-9d1b-e3b4f83f625a",
        "_cell_guid": "0c9de867-832d-4d41-9210-fac87077cdb4",
        "trusted": true,
        "id": "KRrdREj-U3FJ"
      }
    },
    {
      "cell_type": "markdown",
      "source": [
        "[Tfrecords](https://www.tensorflow.org/tutorials/load_data/tfrecord) are serialized records of training examples that are used to create datasets that can be read super efficiently by the TPUs from cloud storage. They are essentially serialized dicts of training examples that get read and parsed to create datasets. Tensorflow recommended creating multiple approximately 150MB files so that they could be read in parallel.\n",
        "\n",
        "The features have to be stored as lists of either `tf.int64`, `tf.float32` or `tf.string`. The cool thing was that it was possible to store multiple frames or faces in each record and then specify how many to read back at dataset creation time. This made it possible to run both single frame and sequence models from the same dataset.\n",
        "\n",
        "I also stored the run length encoding of the mask for each of the fake video faces so that segmentation models could be run from the same set of tfrecords.\n",
        "\n",
        "To create the tfrecords, I got all of the bounding boxes for all of the original videos using [facenet-pytorch](https://github.com/timesler/facenet-pytorch), stored them in a dataframe and then looped through each of the corresponding fake videos to grab the faces from them.\n",
        "\n",
        "I also used a modified version of `imutils` `FileVideoStream` class to to pull video frames that took either a number of frames or a list of indexes of the frames to speed things up by not reading all of the frames in each video. Another time saver was setting the bounding boxes up to use the boxes from the nearest frame for which a bounding box had previously been detected."
      ],
      "metadata": {
        "_uuid": "b811affa-e7f7-440b-8b33-d59eb863da4a",
        "_cell_guid": "63f46f6e-f75a-43cf-9338-4494fd7e1f8e",
        "trusted": true,
        "id": "Kvkr-saYU3FJ"
      }
    },
    {
      "cell_type": "markdown",
      "source": [
        "## Serialize Records"
      ],
      "metadata": {
        "_uuid": "e57bf362-61f8-48ac-8d99-89483fb442f0",
        "_cell_guid": "f4af23e7-b870-4250-bf46-015d0d2f99d7",
        "trusted": true,
        "id": "ClRZ3f6-U3FK"
      }
    },
    {
      "cell_type": "markdown",
      "source": [
        "This is just boilerplate to create serialized features of the three permissible data types for the tfrecords."
      ],
      "metadata": {
        "_uuid": "75b84bb9-dda0-414c-b972-fc8e580eaecc",
        "_cell_guid": "dfe1d930-d982-4069-a35c-d0c6bee1991a",
        "trusted": true,
        "id": "yQ5EACw9U3FK"
      }
    },
    {
      "cell_type": "code",
      "source": [
        "def _bytes_feature(value):\n",
        "    \"\"\"Returns a bytes_list from a string / byte.\"\"\"\n",
        "    if isinstance(value, type(tf.constant(0))):\n",
        "        value = value.numpy() # BytesList won't unpack a string from an EagerTensor.\n",
        "    if type(value) != type(list()):\n",
        "        value = [value]\n",
        "    return tf.train.Feature(bytes_list=tf.train.BytesList(value=value))\n",
        "\n",
        "def _float_feature(value):\n",
        "    \"\"\"Returns a float_list from a float / double.\"\"\"\n",
        "    if type(value) != type(list()):\n",
        "        value = [value]\n",
        "    return tf.train.Feature(float_list=tf.train.FloatList(value=value))\n",
        "\n",
        "def _int64_feature(value):\n",
        "    \"\"\"Returns an int64_list from a bool / enum / int / uint.\"\"\"\n",
        "\n",
        "    if type(value) != type(list()):\n",
        "        value = [value]\n",
        "\n",
        "    return tf.train.Feature(int64_list=tf.train.Int64List(value=value))"
      ],
      "metadata": {
        "_uuid": "edfca59e-d75a-4322-9039-a5a4af5ee434",
        "_cell_guid": "1122a9e4-f0d9-478c-a5a5-941cfc503e55",
        "_kg_hide-input": true,
        "hide_input": true,
        "jupyter": {
          "outputs_hidden": false
        },
        "execution": {
          "iopub.status.busy": "2024-05-26T17:31:18.106611Z",
          "iopub.execute_input": "2024-05-26T17:31:18.106886Z",
          "iopub.status.idle": "2024-05-26T17:31:18.170939Z",
          "shell.execute_reply.started": "2024-05-26T17:31:18.10683Z",
          "shell.execute_reply": "2024-05-26T17:31:18.170046Z"
        },
        "trusted": true,
        "id": "QS2DARqVU3FL"
      },
      "execution_count": null,
      "outputs": []
    },
    {
      "cell_type": "markdown",
      "source": [
        "This stores the records created from the `get_faces` functions in a single tfrecord example. Notice how multiple faces, masks and frame indexes are serialized."
      ],
      "metadata": {
        "_uuid": "0a9a4c70-cd89-4161-b162-fe5aa0824d5c",
        "_cell_guid": "75965c3c-3b8f-4719-8868-e81ffab16630",
        "trusted": true,
        "id": "id_-q0P0U3FM"
      }
    },
    {
      "cell_type": "code",
      "source": [
        "def serialize_example(records):\n",
        "    \"\"\"\n",
        "    Creates a tf.Example message ready to be written to a file.\n",
        "    \"\"\"\n",
        "\n",
        "    meta = records[0]\n",
        "    shape = list(meta['face'].shape)\n",
        "\n",
        "    feature = {\n",
        "        'name':       _bytes_feature(tf.compat.as_bytes(meta['name'])),\n",
        "        'original':   _bytes_feature(tf.compat.as_bytes(meta['orig_name'])),\n",
        "        'label':      _bytes_feature(tf.compat.as_bytes(meta['label'])),\n",
        "        'label_code': _int64_feature(meta['label_code']),\n",
        "        'scale':      _float_feature(meta['scale']),\n",
        "        'shape':      _int64_feature(shape),\n",
        "        'face':       _bytes_feature([tf.io.encode_jpeg(np.array(record['face'])).numpy() for record in records]),\n",
        "        'mask':       _bytes_feature([record['mask_rle'].tobytes() for record in records]),\n",
        "        'idx':        _int64_feature([record['frame_idx'] for record in records]),\n",
        "        'zip_no':     _int64_feature(meta['zip_no']),\n",
        "        'cluster':    _int64_feature(meta['cluster'])\n",
        "    }\n",
        "\n",
        "    return tf.train.Example(features=tf.train.Features(feature=feature)).SerializeToString()"
      ],
      "metadata": {
        "_uuid": "a21c7c85-ac8d-4f12-84fc-2a9540eef539",
        "_cell_guid": "b845962f-e984-47d1-a03f-4481b6c3412c",
        "jupyter": {
          "outputs_hidden": false
        },
        "execution": {
          "iopub.status.busy": "2024-05-26T17:31:18.172424Z",
          "iopub.execute_input": "2024-05-26T17:31:18.172691Z",
          "iopub.status.idle": "2024-05-26T17:31:18.237352Z",
          "shell.execute_reply.started": "2024-05-26T17:31:18.17264Z",
          "shell.execute_reply": "2024-05-26T17:31:18.236429Z"
        },
        "trusted": true,
        "id": "5HNU_kzYU3FN"
      },
      "execution_count": null,
      "outputs": []
    },
    {
      "cell_type": "code",
      "source": [
        "fake_records = get_fake_faces(fake_name, n_frames=8)\n",
        "fake_example = serialize_example(fake_records)"
      ],
      "metadata": {
        "_uuid": "513d4b12-7443-4784-8961-38cfd8c2f58e",
        "_cell_guid": "4d01afce-6229-42b4-a9af-2c5cbf849a18",
        "jupyter": {
          "outputs_hidden": false
        },
        "execution": {
          "iopub.status.busy": "2024-05-26T17:31:18.238875Z",
          "iopub.execute_input": "2024-05-26T17:31:18.239217Z",
          "iopub.status.idle": "2024-05-26T17:31:26.409932Z",
          "shell.execute_reply.started": "2024-05-26T17:31:18.239157Z",
          "shell.execute_reply": "2024-05-26T17:31:26.409173Z"
        },
        "trusted": true,
        "id": "smes9K3iU3FO"
      },
      "execution_count": null,
      "outputs": []
    },
    {
      "cell_type": "code",
      "source": [
        "real_records = get_real_faces(orig_name, n_frames=8)\n",
        "real_example = serialize_example(real_records)"
      ],
      "metadata": {
        "_uuid": "0f4b0d57-be2a-4d1e-ae9c-0f13511912a1",
        "_cell_guid": "43191586-c97c-43c1-b733-a809f7302adf",
        "jupyter": {
          "outputs_hidden": false
        },
        "execution": {
          "iopub.status.busy": "2024-05-26T17:31:26.411379Z",
          "iopub.execute_input": "2024-05-26T17:31:26.411663Z",
          "iopub.status.idle": "2024-05-26T17:31:27.74976Z",
          "shell.execute_reply.started": "2024-05-26T17:31:26.411608Z",
          "shell.execute_reply": "2024-05-26T17:31:27.749105Z"
        },
        "trusted": true,
        "id": "n926uRruU3FP"
      },
      "execution_count": null,
      "outputs": []
    },
    {
      "cell_type": "markdown",
      "source": [
        "## Parse Examples"
      ],
      "metadata": {
        "_uuid": "bf0160c5-8bd1-42ee-82cc-b0e98d0fa953",
        "_cell_guid": "7e9ac43c-33d7-4d7f-8050-77c90a46e022",
        "trusted": true,
        "id": "6kdxhG6QU3FQ"
      }
    },
    {
      "cell_type": "markdown",
      "source": [
        "This function is set up to return a parsing function that returns a parsed record with a specified number of frames, with or without corresponding mask."
      ],
      "metadata": {
        "_uuid": "332266f0-a4d1-4466-9f7c-b03eb776fb44",
        "_cell_guid": "42123cdc-d07b-4dec-a2eb-a5e17e3c37e5",
        "trusted": true,
        "id": "zX8sdu89U3FQ"
      }
    },
    {
      "cell_type": "code",
      "source": [
        "def get_parse_face_with_mask_examples_fn(take_n_faces, incl_mask=False):\n",
        "    def parse_face_examples(examples):\n",
        "        features = {\n",
        "            'name':       tf.io.FixedLenFeature([], tf.string),\n",
        "            'original':   tf.io.FixedLenFeature([], tf.string),\n",
        "            'label':      tf.io.FixedLenFeature([], tf.string),\n",
        "            'label_code': tf.io.FixedLenFeature([], tf.int64),\n",
        "            'scale':      tf.io.FixedLenFeature([], tf.float32),\n",
        "            'shape':     tf.io.FixedLenFeature([3], tf.int64),\n",
        "            'face':     tf.io.VarLenFeature(tf.string),\n",
        "            'mask':     tf.io.VarLenFeature(tf.string),\n",
        "            'idx':       tf.io.VarLenFeature(tf.int64),\n",
        "            'zip_no': tf.io.FixedLenFeature([], tf.int64),\n",
        "            'cluster': tf.io.FixedLenFeature([], tf.int64),\n",
        "        }\n",
        "\n",
        "        parsed = tf.io.parse_example(examples, features)\n",
        "\n",
        "        # make sure label code is consistent with label\n",
        "        label_code = tf.cast(tf.math.equal(parsed['label'], tf.convert_to_tensor('FAKE', tf.string)), tf.int64)\n",
        "        parsed['label_code'] = label_code\n",
        "\n",
        "        def brle_to_mask(rle_bytes):\n",
        "            mask = tf.io.decode_raw(rle_bytes, tf.int64)\n",
        "            mask = tf.cast(brle_to_dense(mask), tf.uint8)\n",
        "            mask = tf.reshape(mask, (parsed['shape'][:2]))\n",
        "            return mask\n",
        "\n",
        "        face = tf.map_fn(lambda x: tf.io.decode_jpeg(x), parsed['face'].values[:take_n_faces], tf.uint8)\n",
        "        parsed['face'] = face\n",
        "\n",
        "        if incl_mask:\n",
        "            mask = tf.map_fn(lambda x: brle_to_mask(x), parsed['mask'].values[:take_n_faces], tf.uint8)\n",
        "            parsed['mask'] = mask\n",
        "\n",
        "        else:\n",
        "            del parsed['mask']\n",
        "\n",
        "\n",
        "        idx = tf.sparse.to_dense(parsed['idx'])\n",
        "        parsed['idx'] = idx[:take_n_faces]\n",
        "\n",
        "        return parsed\n",
        "\n",
        "    return parse_face_examples"
      ],
      "metadata": {
        "_uuid": "fef82127-1c31-4731-a38d-3d6bb4e24db4",
        "_cell_guid": "6c0ceeb3-41d0-4afc-afbc-640991724407",
        "jupyter": {
          "outputs_hidden": false
        },
        "execution": {
          "iopub.status.busy": "2024-05-26T17:31:27.751295Z",
          "iopub.execute_input": "2024-05-26T17:31:27.751646Z",
          "iopub.status.idle": "2024-05-26T17:31:27.82824Z",
          "shell.execute_reply.started": "2024-05-26T17:31:27.751575Z",
          "shell.execute_reply": "2024-05-26T17:31:27.827521Z"
        },
        "trusted": true,
        "id": "nNewLsLEU3FQ"
      },
      "execution_count": null,
      "outputs": []
    },
    {
      "cell_type": "markdown",
      "source": [
        "These records have gone full cycle, from cropped faces from video frames, to serialized tfecords and then parsed back out again."
      ],
      "metadata": {
        "_uuid": "cb8edcde-6fe3-48bc-893f-131806a9a4f5",
        "_cell_guid": "9cec602d-4c51-4571-a732-40f4be3525d2",
        "trusted": true,
        "id": "2uFl3ArrU3FR"
      }
    },
    {
      "cell_type": "code",
      "source": [
        "show_n = 8\n",
        "parse_fn = get_parse_face_with_mask_examples_fn(show_n, incl_mask=True)\n",
        "print(parse_fn(fake_example).keys())\n",
        "\n",
        "for example in [fake_example, real_example]:\n",
        "    parsed_example = parse_fn(example)\n",
        "    print(parsed_example['name'].numpy(),\n",
        "          parsed_example['label'].numpy(),\n",
        "          f\"cluster: {parsed_example['cluster'].numpy()}\")\n",
        "    show_images(parsed_example['face'].numpy()[:show_n],\n",
        "                parsed_example['idx'].numpy()[:show_n].tolist(), hw=(2,2), rc=(1,show_n))\n",
        "    show_images(parsed_example['mask'].numpy()[:show_n], hw=(2,2), rc=(1,show_n))"
      ],
      "metadata": {
        "_uuid": "edda867a-ea02-4864-9202-691d7e14946d",
        "_cell_guid": "bb200daf-00a4-4456-9946-d19354423e87",
        "_kg_hide-input": true,
        "hide_input": true,
        "jupyter": {
          "outputs_hidden": false
        },
        "execution": {
          "iopub.status.busy": "2024-05-26T17:31:27.82982Z",
          "iopub.execute_input": "2024-05-26T17:31:27.830111Z",
          "iopub.status.idle": "2024-05-26T17:31:30.796102Z",
          "shell.execute_reply.started": "2024-05-26T17:31:27.830057Z",
          "shell.execute_reply": "2024-05-26T17:31:30.795372Z"
        },
        "trusted": true,
        "id": "2Q8ZozP_U3FS"
      },
      "execution_count": null,
      "outputs": []
    },
    {
      "cell_type": "markdown",
      "source": [
        "## Create Record Files"
      ],
      "metadata": {
        "_uuid": "d539d285-fab8-46a0-8369-af6332d0048b",
        "_cell_guid": "6319d6e2-63c8-47b4-9ff2-adfa5056a0c1",
        "trusted": true,
        "id": "f9GJOM-5U3FS"
      }
    },
    {
      "cell_type": "markdown",
      "source": [
        "The tfrecord files are created separately for real and fake videos and for training and validation splits. It was possible to filter tfrecords into training and validation splits after they are parsed, on cluster or zip file number, for example, but that ended up being much slower than doing the splits in writing the files. The real and fake are written separately so that they can be balanced efficiently for training and also because records for the fake videos can be written by looping through fakes for each real video so that frames for each real video only have to be pulled twice, instead of for each fake video (since I create masks from thresholded differences for each face).\n",
        "\n",
        "This function just chunks up the original video file names. It includes an argument for number of files, for testing or distributing to other machines."
      ],
      "metadata": {
        "_uuid": "bd8ccd1a-1aca-4d82-8648-0d4cc878cadb",
        "_cell_guid": "5fc4ddb7-9102-4716-bac5-edcea71ec50d",
        "trusted": true,
        "id": "Ukunri-UU3Fe"
      }
    },
    {
      "cell_type": "code",
      "source": [
        "def get_chunks(split, label, n_per_chunk=20, n_files=None):\n",
        "    \"\"\"Returns a chunks of original video names. Specify n_files > 0 to limit number of files written.\"\"\"\n",
        "\n",
        "    orig_names = df_test_meta[df_test_meta.test_split == split].original.unique()\n",
        "    n_chunks = len(orig_names) // n_per_chunk\n",
        "    orig_chunks = list(enumerate(np.array_split(np.array(orig_names),n_chunks)))\n",
        "    sample_chunks = orig_chunks[:n_files]\n",
        "\n",
        "    print(f'Total {len(orig_chunks)} chunks with videos from {len(orig_chunks[0][1])} original videos in each.')\n",
        "    print(f'sample_chunks {len(sample_chunks)} chunks with videos from {len(sample_chunks[0][1])} original videos in each.')\n",
        "\n",
        "    return sample_chunks"
      ],
      "metadata": {
        "_uuid": "91523943-56d2-4491-a9bf-0f8b52eda4fb",
        "_cell_guid": "764e9a35-d19e-41a5-a5c9-4d543005764c",
        "jupyter": {
          "outputs_hidden": false
        },
        "execution": {
          "iopub.status.busy": "2024-05-26T17:31:30.797783Z",
          "iopub.execute_input": "2024-05-26T17:31:30.798142Z",
          "iopub.status.idle": "2024-05-26T17:31:30.860335Z",
          "shell.execute_reply.started": "2024-05-26T17:31:30.798046Z",
          "shell.execute_reply": "2024-05-26T17:31:30.859572Z"
        },
        "trusted": true,
        "id": "hSDN-kD2U3Ff"
      },
      "execution_count": null,
      "outputs": []
    },
    {
      "cell_type": "markdown",
      "source": [
        "This function is where the tfrecords are actually written. It loops the the original video names, pulls the high probability face boxes for each and then creates records for each fake video. It takes an argument for max number of fake videos if you want to limit the number of fake videos per original video in the records."
      ],
      "metadata": {
        "_uuid": "0745c28e-1931-4878-bf44-578c99834e35",
        "_cell_guid": "7e24e6d7-ced2-4bfd-b094-99291b4d5e18",
        "trusted": true,
        "id": "brCRfeFbU3Ff"
      }
    },
    {
      "cell_type": "code",
      "source": [
        "def write_tfrecord_files(split, label, chunks, max_fakes=None):\n",
        "    start = time.perf_counter()\n",
        "    error_vids = []\n",
        "\n",
        "    for chunk_idx, chunk in chunks:\n",
        "        filename = f'{TFRECORD_PREFIX}_{split}_{label}_{chunk_idx:05d}.tfrecords'\n",
        "        record_file = f'{TFRECORD_DIR}/{filename}'\n",
        "\n",
        "        with tf.io.TFRecordWriter(record_file) as writer:\n",
        "\n",
        "            for orig_name in tqdm(chunk):\n",
        "                if label == 'FAKE':\n",
        "                    orig_frames, orig_idxs = get_frames(orig_name, n_frames=20)\n",
        "                    fake_vid_names = df_test_meta[(df_test_meta.label == 'FAKE')\n",
        "                                                 & (df_test_meta.original == orig_name)].index[:max_fakes]\n",
        "\n",
        "                    for vid_name in fake_vid_names:\n",
        "                        for box_idx in df_box_probs.loc[orig_name].index:\n",
        "                            try:\n",
        "                                fake_records = get_fake_faces(vid_name,\n",
        "                                                              orig_vid=(orig_name, orig_frames, orig_idxs),\n",
        "                                                              box_idx=box_idx)\n",
        "                                writer.write(serialize_example(fake_records))\n",
        "                            except:\n",
        "                                print(vid_name)\n",
        "                                error_vids.append(vid_name)\n",
        "                else:\n",
        "                    for box_idx in df_box_probs.loc[orig_name].index:\n",
        "                        for box_idx in df_box_probs.loc[orig_name].index:\n",
        "                            try:\n",
        "                                real_records = get_real_faces(orig_name, n_frames=20, box_idx=box_idx)\n",
        "                                writer.write(serialize_example(real_records))\n",
        "                            except:\n",
        "                                print(orig_name)\n",
        "                                error_vids.append(orig_name)\n",
        "\n",
        "        print(f'{filename} written to {TFRECORD_DIR}')\n",
        "\n",
        "    duration = time.perf_counter() - start\n",
        "    n_videos = len(np.concatenate([x[1] for x in chunks]))\n",
        "\n",
        "    print(f'\\nProcessed {n_videos} original videos in {duration:0.1f} seconds - avg of {duration / n_videos:0.1f} seconds per video.')\n",
        "    print(f'Estimated duration for 19,000 original videos: {duration / n_videos * 19000 / 3600:0.1f} hours.')\n",
        "\n",
        "    total_size = 0.\n",
        "\n",
        "    if TFRECORD_DIR[:2] == 'gs':\n",
        "        for b in bucket.list_blobs(prefix=TFRECORD_PREFIX):\n",
        "            total_size += b.size\n",
        "\n",
        "    else:\n",
        "        for p in Path(TFRECORD_DIR).glob(f'{TFRECORD_PREFIX}*'):\n",
        "            total_size += p.lstat().st_size\n",
        "    #     print(p.name, f'{p.lstat().st_size / 1e6:.1f} MB')\n",
        "\n",
        "    print(f'\\nTotal disk space of {total_size / 1e6:0.1f} MB for {n_videos} videos - avg of {total_size / n_videos / 1e6:0.1f} MB per video.')\n",
        "    print(f'Estimated disk space for 19,000 original videos: {total_size / n_videos * 19000 / 1e9:0,.1f} GB.')"
      ],
      "metadata": {
        "_uuid": "661705b8-2387-499e-90ab-4de996095e19",
        "_cell_guid": "b63b5855-4651-4611-9731-13f3a422dcbb",
        "jupyter": {
          "outputs_hidden": false
        },
        "execution": {
          "iopub.status.busy": "2024-05-26T17:31:30.861783Z",
          "iopub.execute_input": "2024-05-26T17:31:30.86206Z",
          "iopub.status.idle": "2024-05-26T17:31:30.935734Z",
          "shell.execute_reply.started": "2024-05-26T17:31:30.86201Z",
          "shell.execute_reply": "2024-05-26T17:31:30.935024Z"
        },
        "trusted": true,
        "id": "v1OpYVftU3Ff"
      },
      "execution_count": null,
      "outputs": []
    },
    {
      "cell_type": "code",
      "source": [
        "if True:\n",
        "    for s in ['train', 'valid']:\n",
        "        for l in ['FAKE', 'REAL']:\n",
        "            print('\\n\\033[1m', s,l, '\\033[0m')\n",
        "            chunks = get_chunks(s, l, 10, n_files=2)\n",
        "            write_tfrecord_files(s, l, chunks)"
      ],
      "metadata": {
        "_uuid": "c3ab2279-5514-42fe-9f6f-65974baf99bc",
        "_cell_guid": "ff327662-6b98-4ff3-bdac-1c5dcfe2e42f",
        "jupyter": {
          "outputs_hidden": false
        },
        "execution": {
          "iopub.status.busy": "2024-05-26T17:31:30.937427Z",
          "iopub.execute_input": "2024-05-26T17:31:30.937737Z",
          "iopub.status.idle": "2024-05-26T17:35:02.611677Z",
          "shell.execute_reply.started": "2024-05-26T17:31:30.937685Z",
          "shell.execute_reply": "2024-05-26T17:35:02.610874Z"
        },
        "trusted": true,
        "id": "y7he4V-GU3Fg"
      },
      "execution_count": null,
      "outputs": []
    },
    {
      "cell_type": "markdown",
      "source": [
        "# Datasets"
      ],
      "metadata": {
        "_uuid": "5e6ae0bb-4771-47ef-a230-a919f33566e0",
        "_cell_guid": "077f59c1-885c-40d8-86d9-766211ba9a55",
        "trusted": true,
        "id": "ErDSjpT3U3Fg"
      }
    },
    {
      "cell_type": "markdown",
      "source": [
        "These dataset functions are set up to be able to create examples with single faces or multiple faces with and without masks. Augmentation includes random horizontal flip and resize with random crop. Preprocessing includes normalization for three different sets of parameters as well as resizing. Both augmentation and preprocessing are applied to both faces and corresponding masks if they are included in the dataset."
      ],
      "metadata": {
        "_uuid": "a1982891-c627-4b6a-a1c3-cfac19561488",
        "_cell_guid": "d33f6f14-e5be-4c79-91b7-c4c29e5621b9",
        "trusted": true,
        "id": "9vkABFumU3Fg"
      }
    },
    {
      "cell_type": "code",
      "source": [
        "AUTO = tf.data.experimental.AUTOTUNE"
      ],
      "metadata": {
        "_uuid": "34e87227-fc11-4bd3-ad94-9ff2f2ec2bc2",
        "_cell_guid": "86cfbcae-b213-4454-8afb-b50752a61257",
        "jupyter": {
          "outputs_hidden": false
        },
        "execution": {
          "iopub.status.busy": "2024-05-26T17:35:02.613082Z",
          "iopub.execute_input": "2024-05-26T17:35:02.613388Z",
          "iopub.status.idle": "2024-05-26T17:35:02.679725Z",
          "shell.execute_reply.started": "2024-05-26T17:35:02.613338Z",
          "shell.execute_reply": "2024-05-26T17:35:02.678837Z"
        },
        "trusted": true,
        "id": "gvIEtvpyU3Fh"
      },
      "execution_count": null,
      "outputs": []
    },
    {
      "cell_type": "code",
      "source": [
        "def flatten_frames(example):\n",
        "    n_frames = tf.shape(example['face'])[0]\n",
        "    for k in [k for k in example.keys() if k not in ['face', 'mask', 'idx', 'shape']]:\n",
        "        example[k] = tf.repeat(example[k], n_frames)\n",
        "    example['shape'] = tf.tile(tf.expand_dims(example['shape'], axis=0), (n_frames,1))\n",
        "    return example\n",
        "\n",
        "def get_augment_fn(zoom=1.0, incl_mask=False):\n",
        "    def augment(batch):\n",
        "        new_batch = batch.copy()\n",
        "        del batch\n",
        "\n",
        "        face = new_batch['face']\n",
        "        face = tf.image.central_crop(face, zoom)\n",
        "        shape = tf.shape(face)\n",
        "\n",
        "        flip = tf.random.uniform(()) > 0.5\n",
        "\n",
        "        if flip:\n",
        "            face = tf.image.flip_left_right(face)\n",
        "\n",
        "        resize_pix = 30\n",
        "        face = tf.image.resize(face, shape[-3:-1] + resize_pix)\n",
        "        upper = tf.random.uniform((), 0, resize_pix, tf.int32)\n",
        "        left = tf.random.uniform((), 0, resize_pix, tf.int32)\n",
        "        face = face[:, upper:shape[1]+upper, left:shape[2]+left, :]\n",
        "\n",
        "        new_batch['face'] = tf.cast(face, tf.uint8)\n",
        "\n",
        "        if incl_mask:\n",
        "            mask = tf.expand_dims(new_batch['mask'], axis=-1)\n",
        "            mask = tf.image.central_crop(mask, zoom)\n",
        "\n",
        "            if flip:\n",
        "                mask = tf.image.flip_left_right(mask)\n",
        "\n",
        "            mask = tf.image.resize(mask, shape[-3:-1] + resize_pix, 'nearest')\n",
        "            mask = mask[:, upper:shape[1]+upper, left:shape[2]+left]\n",
        "            mask = tf.reshape(mask, shape[:-1])\n",
        "\n",
        "            new_batch['mask'] = tf.cast(mask, tf.uint8)\n",
        "\n",
        "        return new_batch\n",
        "\n",
        "    return augment\n",
        "\n",
        "def get_preprocess_fn(norm_type, batch_size=128, image_size=(224, 224), seq=False, incl_mask=False):\n",
        "    def vgg_norm(face):\n",
        "        mean = tf.constant([91.4953, 103.8827, 131.0912])\n",
        "\n",
        "        return face - mean\n",
        "\n",
        "    def dfdc_norm(face):\n",
        "        mean = tf.constant([109.733734, 92.62417, 85.35359])\n",
        "        std = tf.constant([55.618042, 55.17303, 54.191914])\n",
        "\n",
        "        return (face - mean) / std\n",
        "\n",
        "    def imagenet_norm(face):\n",
        "        mean = tf.constant([0.485, 0.456, 0.406])\n",
        "        std = tf.constant([0.229, 0.224, 0.225])\n",
        "\n",
        "        return (face / tf.constant(255, tf.float32) - mean) / std\n",
        "\n",
        "    norm_fn = {'vgg': vgg_norm,\n",
        "               'dfdc': dfdc_norm,\n",
        "               'imagenet': imagenet_norm,\n",
        "               None: dfdc_norm\n",
        "              }\n",
        "\n",
        "    def preprocess(batch):\n",
        "        if seq:\n",
        "            shape = tf.shape(batch['face'])\n",
        "            face = tf.map_fn(lambda x: tf.image.resize(x, image_size), batch['face'], tf.float32)\n",
        "            face = tf.reshape(face, (batch_size, shape[1], *image_size, 3))\n",
        "        else:\n",
        "            face = tf.image.resize(batch['face'], image_size)\n",
        "            face = tf.reshape(face, (batch_size, *image_size, 3))\n",
        "\n",
        "        face = norm_fn[norm_type](face)\n",
        "\n",
        "        label_code = tf.cast(batch['label_code'], tf.float32)\n",
        "        label_code = tf.reshape(label_code, (batch_size,))\n",
        "\n",
        "        if incl_mask:\n",
        "            mask = tf.cast(tf.expand_dims(batch['mask'], axis=-1), tf.float32)\n",
        "\n",
        "            if seq:\n",
        "                mask = tf.map_fn(lambda x: tf.image.resize(x, image_size, 'nearest'), mask, tf.float32)\n",
        "                mask = tf.reshape(tf.squeeze(mask), (batch_size, shape[1], *image_size))\n",
        "            else:\n",
        "                mask = tf.image.resize(mask, image_size, 'nearest')\n",
        "                mask = tf.reshape(tf.squeeze(mask), (batch_size, *image_size))\n",
        "\n",
        "            return face,  (mask, label_code)\n",
        "\n",
        "        return face, label_code\n",
        "\n",
        "    return preprocess"
      ],
      "metadata": {
        "_uuid": "5c029adb-66ba-42ba-b59e-25fa48270380",
        "_cell_guid": "10d34aa0-22fa-4a77-aa0f-71b51a2f71c7",
        "jupyter": {
          "outputs_hidden": false
        },
        "execution": {
          "iopub.status.busy": "2024-05-26T17:35:02.681327Z",
          "iopub.execute_input": "2024-05-26T17:35:02.681622Z",
          "iopub.status.idle": "2024-05-26T17:35:02.774745Z",
          "shell.execute_reply.started": "2024-05-26T17:35:02.681557Z",
          "shell.execute_reply": "2024-05-26T17:35:02.773826Z"
        },
        "trusted": true,
        "id": "npIqjzfqU3Fh"
      },
      "execution_count": null,
      "outputs": []
    },
    {
      "cell_type": "markdown",
      "source": [
        "This function actually creates the datasets. One cool thing was that most of the `tf.image` methods work on either three or four dimensional tensors, so by changing the order of the augmentation and batching, it was possible to use the same functions to create both single frame and sequence datasets. Another nice feature was the `tf.data.experimental.sample_from_datasets` method that takes a list of datasets and an optional set of weights to create a balanced dataset."
      ],
      "metadata": {
        "_uuid": "18a34a89-b55c-4c5a-872e-4fecb575fb3d",
        "_cell_guid": "7abc5804-e346-4991-be02-90ac0b80ad8e",
        "trusted": true,
        "id": "OV025kUCU3Fi"
      }
    },
    {
      "cell_type": "code",
      "source": [
        "def get_ds(split, batch_size=32, n_frames=1, incl_mask=False, seq=False, shuffle=False):\n",
        "\n",
        "    def get_ds_label(label):\n",
        "        return (tf.data.Dataset.list_files(f'{TFRECORD_DIR}/{TFRECORD_PREFIX}_{split}_{label}_*.tfrecords',\n",
        "                                           shuffle=shuffle)\n",
        "                .interleave(tf.data.TFRecordDataset, num_parallel_calls=AUTO)\n",
        "                .map(get_parse_face_with_mask_examples_fn(n_frames, incl_mask), num_parallel_calls=AUTO)\n",
        "                .repeat())\n",
        "\n",
        "    ds_real = get_ds_label('REAL')\n",
        "    ds_fake = get_ds_label('FAKE')\n",
        "\n",
        "    ds_bal = tf.data.experimental.sample_from_datasets([ds_real, ds_fake], [1., 1.], seed=42)\n",
        "\n",
        "    if seq:\n",
        "        if split == 'train':\n",
        "            ds_bal = ds_bal.map(get_augment_fn(incl_mask=incl_mask), num_parallel_calls=AUTO)\n",
        "\n",
        "        ds_bal = ds_bal.batch(batch_size)\n",
        "\n",
        "    else:\n",
        "        ds_bal = ds_bal.map(flatten_frames, num_parallel_calls=AUTO).unbatch().batch(batch_size)\n",
        "\n",
        "        if split == 'train':\n",
        "            ds_bal = ds_bal.map(get_augment_fn(incl_mask=incl_mask), num_parallel_calls=AUTO)\n",
        "\n",
        "    return ds_bal.prefetch(AUTO)"
      ],
      "metadata": {
        "_uuid": "171db4f1-e740-4650-a324-0850d7a5ab8a",
        "_cell_guid": "9cd018ad-d310-4add-ac43-03803e8e58ce",
        "jupyter": {
          "outputs_hidden": false
        },
        "execution": {
          "iopub.status.busy": "2024-05-26T17:35:02.776158Z",
          "iopub.execute_input": "2024-05-26T17:35:02.776427Z",
          "iopub.status.idle": "2024-05-26T17:35:02.84257Z",
          "shell.execute_reply.started": "2024-05-26T17:35:02.776378Z",
          "shell.execute_reply": "2024-05-26T17:35:02.841888Z"
        },
        "trusted": true,
        "id": "dD238NXEU3Fi"
      },
      "execution_count": null,
      "outputs": []
    },
    {
      "cell_type": "code",
      "source": [
        "if TFRECORD_DIR[:2] == 'gs':\n",
        "    for b in bucket.list_blobs(prefix=TFRECORD_PREFIX):\n",
        "        print(b.name, f'{b.size / 1e6:.1f} MB')\n",
        "\n",
        "else:\n",
        "    for p in sorted(Path(TFRECORD_DIR).glob(f'{TFRECORD_PREFIX}*')):\n",
        "        print(p.name, f'{p.lstat().st_size / 1e6:.1f} MB')"
      ],
      "metadata": {
        "_uuid": "ed4f4b74-f3d1-4334-b890-f918ced47233",
        "_cell_guid": "69becf86-b1b3-497b-8eb0-a63c0fb0dca8",
        "jupyter": {
          "outputs_hidden": false
        },
        "execution": {
          "iopub.status.busy": "2024-05-26T17:35:02.844061Z",
          "iopub.execute_input": "2024-05-26T17:35:02.844321Z",
          "iopub.status.idle": "2024-05-26T17:35:02.907414Z",
          "shell.execute_reply.started": "2024-05-26T17:35:02.844272Z",
          "shell.execute_reply": "2024-05-26T17:35:02.906404Z"
        },
        "trusted": true,
        "id": "whd3kFL9U3Fi"
      },
      "execution_count": null,
      "outputs": []
    },
    {
      "cell_type": "code",
      "source": [
        "ds = get_ds('train', seq=False, incl_mask=True)\n",
        "for b in ds.take(1):\n",
        "    b=b"
      ],
      "metadata": {
        "_uuid": "fb85b00f-a1e9-4a43-82c7-9a88e97d71fa",
        "_cell_guid": "2c180b3b-4388-4a2c-af22-910e80c811e8",
        "jupyter": {
          "outputs_hidden": false
        },
        "execution": {
          "iopub.status.busy": "2024-05-26T17:35:02.90889Z",
          "iopub.execute_input": "2024-05-26T17:35:02.909243Z",
          "iopub.status.idle": "2024-05-26T17:35:06.542702Z",
          "shell.execute_reply.started": "2024-05-26T17:35:02.909192Z",
          "shell.execute_reply": "2024-05-26T17:35:06.541649Z"
        },
        "trusted": true,
        "id": "w7d1PEFnU3Fi"
      },
      "execution_count": null,
      "outputs": []
    },
    {
      "cell_type": "markdown",
      "source": [
        "These records have gone the full, full cycle, extracted faces from video frames, serialized to tfrecords and then parsed back out into a dataset."
      ],
      "metadata": {
        "_uuid": "b6313a0d-95a5-4ae1-a1ec-3d0b7a14b74c",
        "_cell_guid": "90609f2c-4446-42c6-b6c6-3ffa0629e7eb",
        "trusted": true,
        "id": "sng9iTQxU3Fj"
      }
    },
    {
      "cell_type": "code",
      "source": [
        "show_images(b['face'].numpy(), b['name'].numpy().tolist(), hw=(2,2), rc=(1,8))\n",
        "show_images(b['mask'].numpy(), b['label'].numpy().tolist(), hw=(2,2), rc=(1,8))"
      ],
      "metadata": {
        "_uuid": "8e6e8415-1103-43ce-bd38-e0491d3306bd",
        "_cell_guid": "2c3adbf4-6ab3-41dd-bf1c-cae45dfcf746",
        "_kg_hide-input": true,
        "jupyter": {
          "outputs_hidden": false
        },
        "execution": {
          "iopub.status.busy": "2024-05-26T17:35:06.550248Z",
          "iopub.execute_input": "2024-05-26T17:35:06.55054Z",
          "iopub.status.idle": "2024-05-26T17:35:07.808072Z",
          "shell.execute_reply.started": "2024-05-26T17:35:06.550492Z",
          "shell.execute_reply": "2024-05-26T17:35:07.807089Z"
        },
        "trusted": true,
        "id": "JGSN-ULSU3Fj"
      },
      "execution_count": null,
      "outputs": []
    },
    {
      "cell_type": "markdown",
      "source": [
        "# Models"
      ],
      "metadata": {
        "_uuid": "069f21e4-148b-4ada-a0e6-644d8b60e923",
        "_cell_guid": "a66bc607-4264-4da4-8d06-c4aefc8369fe",
        "trusted": true,
        "id": "dqzPyHA5U3Fk"
      }
    },
    {
      "cell_type": "markdown",
      "source": [
        "## Device"
      ],
      "metadata": {
        "_uuid": "726d9966-783a-4c1f-9d4a-75ea4b935fbc",
        "_cell_guid": "96a91beb-ce4d-459f-b3f4-98efa9773fb8",
        "trusted": true,
        "id": "QxITE5WoU3Fk"
      }
    },
    {
      "cell_type": "markdown",
      "source": [
        "This allows the models to run on CPU or GPU or TPU if available."
      ],
      "metadata": {
        "_uuid": "a1cde3a1-b6bc-4558-9b8d-8811622197df",
        "_cell_guid": "4dda73e9-5bb9-4d47-a2ed-f29e78f90f5d",
        "trusted": true,
        "id": "Qp225Y4RU3Fk"
      }
    },
    {
      "cell_type": "code",
      "source": [
        "try:\n",
        "    tpu = tf.distribute.cluster_resolver.TPUClusterResolver(TPU_NAME)\n",
        "    print('Running on TPU ', tpu.master())\n",
        "except:\n",
        "    tpu = None\n",
        "\n",
        "if tpu:\n",
        "    tf.config.experimental_connect_to_cluster(tpu)\n",
        "    tf.tpu.experimental.initialize_tpu_system(tpu)\n",
        "    strategy = tf.distribute.experimental.TPUStrategy(tpu)\n",
        "else:\n",
        "    strategy = tf.distribute.get_strategy()\n",
        "\n",
        "print(\"REPLICAS: \", strategy.num_replicas_in_sync)"
      ],
      "metadata": {
        "_uuid": "2245648e-26d3-415b-87da-63e668a380a8",
        "_cell_guid": "70328b98-31fd-4514-b2b7-054422dc8d22",
        "jupyter": {
          "outputs_hidden": false
        },
        "execution": {
          "iopub.status.busy": "2024-05-26T17:35:07.809737Z",
          "iopub.execute_input": "2024-05-26T17:35:07.810091Z",
          "iopub.status.idle": "2024-05-26T17:35:07.897259Z",
          "shell.execute_reply.started": "2024-05-26T17:35:07.810027Z",
          "shell.execute_reply": "2024-05-26T17:35:07.896501Z"
        },
        "trusted": true,
        "id": "SmV7BeZcU3Fk"
      },
      "execution_count": null,
      "outputs": []
    },
    {
      "cell_type": "markdown",
      "source": [
        "## Single Frame CNN"
      ],
      "metadata": {
        "_uuid": "d821150f-b3ef-4fc0-b612-71540d144c20",
        "_cell_guid": "29fcc71d-5681-42fc-8007-65e33708843b",
        "trusted": true,
        "id": "MXSicciiU3Fl"
      }
    },
    {
      "cell_type": "markdown",
      "source": [
        "This is just a quick example to demonstrate how the datasets can be constructed to train a simple single frame cnn model. To train it on a TPU, the tfrecord files would need to be in cloud storage. There also aren't any callbacks here, most notably for saving model checkpoints. The model and checkpoint directories would also need to be on cloud storage in order to work with TPUs. The batch sizes could obviously be a lot larger on TPUs. I was running batch sizes as large as 2000 in some models."
      ],
      "metadata": {
        "_uuid": "5477c90b-7157-4b4f-a46e-bd63004e5974",
        "_cell_guid": "f089f911-e4f7-4b9c-b95b-530545a36526",
        "trusted": true,
        "id": "RjanmDv8U3Fl"
      }
    },
    {
      "cell_type": "code",
      "source": [
        "image_size = (260, 260)\n",
        "batch_size = 32\n",
        "seq = False\n",
        "incl_mask = False\n",
        "\n",
        "ds_train = get_ds('train', batch_size=batch_size, n_frames=1,\n",
        "                      seq=seq, incl_mask=incl_mask, shuffle=True)\n",
        "ds_valid = get_ds('valid', batch_size=batch_size, n_frames=1,\n",
        "                      seq=seq, incl_mask=incl_mask)\n",
        "\n",
        "preprocess = get_preprocess_fn('dfdc', batch_size=batch_size,\n",
        "                               image_size=image_size, seq=seq, incl_mask=incl_mask)\n",
        "\n",
        "ds_train_fit = ds_train.map(preprocess, num_parallel_calls=AUTO)\n",
        "ds_valid_fit = ds_valid.map(preprocess, num_parallel_calls=AUTO)"
      ],
      "metadata": {
        "_uuid": "6d84fd92-9fc6-4851-a0ca-5b05dacee2a5",
        "_cell_guid": "f56ec704-064a-4cfd-8028-90bc64bb6c8f",
        "jupyter": {
          "outputs_hidden": false
        },
        "execution": {
          "iopub.status.busy": "2024-05-26T17:35:07.899091Z",
          "iopub.execute_input": "2024-05-26T17:35:07.899516Z",
          "iopub.status.idle": "2024-05-26T17:35:09.074642Z",
          "shell.execute_reply.started": "2024-05-26T17:35:07.899369Z",
          "shell.execute_reply": "2024-05-26T17:35:09.07376Z"
        },
        "trusted": true,
        "id": "e7oVHyIOU3Fl"
      },
      "execution_count": null,
      "outputs": []
    },
    {
      "cell_type": "code",
      "source": [
        "with strategy.scope():\n",
        "\n",
        "    opt = tf.keras.optimizers.SGD(lr=0.0001, momentum=0.9)\n",
        "    loss_fn = tf.keras.losses.BinaryCrossentropy()\n",
        "    metrics = [tf.keras.metrics.BinaryAccuracy()]\n",
        "\n",
        "    cnn = efn.EfficientNetB2(weights=None,include_top=False,pooling='avg', input_shape=(*image_size, 3))\n",
        "\n",
        "    model = tf.keras.Sequential([\n",
        "        cnn,\n",
        "        tf.keras.layers.Flatten(),\n",
        "        tf.keras.layers.Dense(512, activation='selu', kernel_initializer=\"lecun_normal\"),\n",
        "        tf.keras.layers.Dense(512, activation='selu', kernel_initializer=\"lecun_normal\"),\n",
        "        tf.keras.layers.Dense(1, activation='sigmoid')\n",
        "    ])\n",
        "\n",
        "    model.compile(loss=loss_fn, optimizer=opt, metrics=metrics)\n",
        "\n",
        "model.summary()"
      ],
      "metadata": {
        "_uuid": "b5378f02-d4c3-4c2f-b580-3b0db4c6f235",
        "_cell_guid": "50105a3d-f372-4ff9-bd3f-7bf0d946b203",
        "jupyter": {
          "outputs_hidden": false
        },
        "execution": {
          "iopub.status.busy": "2024-05-26T17:35:09.076196Z",
          "iopub.execute_input": "2024-05-26T17:35:09.076442Z",
          "iopub.status.idle": "2024-05-26T17:35:15.809697Z",
          "shell.execute_reply.started": "2024-05-26T17:35:09.076401Z",
          "shell.execute_reply": "2024-05-26T17:35:15.808775Z"
        },
        "trusted": true,
        "id": "2Vw3R6StU3Fm"
      },
      "execution_count": null,
      "outputs": []
    },
    {
      "cell_type": "code",
      "source": [
        "history = model.fit(ds_train_fit,\n",
        "                    steps_per_epoch=280,\n",
        "                    epochs=10,\n",
        "                    validation_data=ds_valid_fit,\n",
        "                    validation_steps=2\n",
        "                   )"
      ],
      "metadata": {
        "_uuid": "df4b97a1-7689-437f-be8c-9a13c63a3579",
        "_cell_guid": "fe6185b9-684b-432a-838d-cc6624723520",
        "jupyter": {
          "outputs_hidden": false
        },
        "execution": {
          "iopub.status.busy": "2024-05-26T17:35:15.811222Z",
          "iopub.execute_input": "2024-05-26T17:35:15.811546Z",
          "iopub.status.idle": "2024-05-26T18:03:39.670272Z",
          "shell.execute_reply.started": "2024-05-26T17:35:15.811487Z",
          "shell.execute_reply": "2024-05-26T18:03:39.669427Z"
        },
        "trusted": true,
        "id": "ENLH05NAU3Fm"
      },
      "execution_count": null,
      "outputs": []
    },
    {
      "cell_type": "code",
      "source": [
        "model.save('my_cnn_model.h5')"
      ],
      "metadata": {
        "_uuid": "1c3ecc50-61ae-413b-8295-a67e0ac8a77f",
        "_cell_guid": "ba4e0102-afa2-476c-bf4b-1bf981f92607",
        "jupyter": {
          "outputs_hidden": false
        },
        "execution": {
          "iopub.status.busy": "2024-05-26T18:03:39.672171Z",
          "iopub.execute_input": "2024-05-26T18:03:39.672556Z",
          "iopub.status.idle": "2024-05-26T18:03:40.527432Z",
          "shell.execute_reply.started": "2024-05-26T18:03:39.672489Z",
          "shell.execute_reply": "2024-05-26T18:03:40.526736Z"
        },
        "trusted": true,
        "id": "GSpFlcprU3Fm"
      },
      "execution_count": null,
      "outputs": []
    },
    {
      "cell_type": "code",
      "source": [
        "plot_learning_curves(history)"
      ],
      "metadata": {
        "_uuid": "5869e268-6a8e-4858-a8e4-feed71fbf75c",
        "_cell_guid": "77e56196-b64d-45ca-a5c9-938dae5105c1",
        "jupyter": {
          "outputs_hidden": false
        },
        "execution": {
          "iopub.status.busy": "2024-05-26T18:03:40.529108Z",
          "iopub.execute_input": "2024-05-26T18:03:40.52945Z",
          "iopub.status.idle": "2024-05-26T18:03:40.924318Z",
          "shell.execute_reply.started": "2024-05-26T18:03:40.529388Z",
          "shell.execute_reply": "2024-05-26T18:03:40.923139Z"
        },
        "trusted": true,
        "id": "ZR7naRhJU3Fm"
      },
      "execution_count": null,
      "outputs": []
    },
    {
      "cell_type": "markdown",
      "source": [
        "## Sequence"
      ],
      "metadata": {
        "_uuid": "844e3ca2-fe2c-4410-9fec-c2b4fb5f86ab",
        "_cell_guid": "35ec0c16-3105-44bd-a996-d5174e9c4cff",
        "trusted": true,
        "id": "L5THqRHdU3Fn"
      }
    },
    {
      "cell_type": "markdown",
      "source": [
        "Likewise, this is also a simple implementation to demonstrate how the datasets can be configured from the same tfrecord files to train a sequence model. This model starts with a pretrained resnet50 model trained on the vggface2 dataset from [WeidiXie/\n",
        "Keras-VGGFace2-ResNet50](https://github.com/WeidiXie/Keras-VGGFace2-ResNet50), unfreezing the weights in the last convolution block.e"
      ],
      "metadata": {
        "_uuid": "89c1a81d-8ed6-491e-9719-6bb6ffe5a87e",
        "_cell_guid": "7c11b4e9-ad6d-4c8a-9768-cc3864613c8b",
        "trusted": true,
        "id": "lgRKKi9-U3Fn"
      }
    },
    {
      "cell_type": "code",
      "source": [
        "batch_size = 32\n",
        "image_size = (224, 224)\n",
        "n_frames = 16\n",
        "seq = True\n",
        "incl_mask = False\n",
        "\n",
        "ds_train = get_ds('train', batch_size=batch_size, n_frames=n_frames,\n",
        "                      seq=seq, incl_mask=incl_mask, shuffle=True)\n",
        "ds_valid = get_ds('valid', batch_size=batch_size, n_frames=n_frames,\n",
        "                      seq=seq, incl_mask=incl_mask)\n",
        "\n",
        "preprocess = get_preprocess_fn('vgg', batch_size=batch_size, image_size=image_size,\n",
        "                               seq=seq, incl_mask=incl_mask)\n",
        "\n",
        "ds_train_fit = ds_train.map(preprocess, num_parallel_calls=AUTO)\n",
        "ds_valid_fit = ds_valid.map(preprocess, num_parallel_calls=AUTO)"
      ],
      "metadata": {
        "_uuid": "0da4c977-b888-4d6f-b69d-d801766c8058",
        "_cell_guid": "917f37f0-20d5-4571-8254-0dc018d30961",
        "jupyter": {
          "outputs_hidden": false
        },
        "execution": {
          "iopub.status.busy": "2024-05-26T18:03:40.926036Z",
          "iopub.execute_input": "2024-05-26T18:03:40.926677Z",
          "iopub.status.idle": "2024-05-26T18:03:41.442223Z",
          "shell.execute_reply.started": "2024-05-26T18:03:40.926317Z",
          "shell.execute_reply": "2024-05-26T18:03:41.441567Z"
        },
        "trusted": true,
        "id": "Fx01mk0dU3Fn"
      },
      "execution_count": null,
      "outputs": []
    },
    {
      "cell_type": "code",
      "source": [
        "with strategy.scope():\n",
        "\n",
        "    opt = tf.keras.optimizers.SGD(lr=0.0001, momentum=0.9)\n",
        "    loss_fn = tf.keras.losses.BinaryCrossentropy()\n",
        "    metrics = [tf.keras.metrics.BinaryAccuracy()]\n",
        "\n",
        "    cnn = Vggface2_ResNet50(mode='train')\n",
        "    cnn.load_weights(str(DATASET_DIR/'vggface2_Keras/model/resnet50_softmax_dim512/weights.h5'))\n",
        "    inputs = tf.keras.layers.Input(shape=(*image_size, 3))\n",
        "    cnn = tf.keras.Model(cnn.get_layer('base_input').input, outputs=cnn.get_layer('dim_proj').output)\n",
        "\n",
        "    cnn.trainable = True\n",
        "    for l in cnn.layers[:-13]:\n",
        "        l.trainable = False\n",
        "\n",
        "    model = tf.keras.Sequential([\n",
        "        tf.keras.layers.Input((n_frames, *image_size, 3)),\n",
        "        tf.keras.layers.TimeDistributed(cnn),\n",
        "        tf.keras.layers.LSTM(256),\n",
        "        tf.keras.layers.Dense(128, activation='selu', kernel_initializer='lecun_normal'),\n",
        "        tf.keras.layers.Dense(1, activation='sigmoid'),\n",
        "    ])\n",
        "\n",
        "    model.compile(loss=loss_fn, optimizer=opt, metrics=metrics)\n",
        "\n",
        "model.summary()"
      ],
      "metadata": {
        "_uuid": "22a4adc8-8706-4217-8f2e-9bc5579b2c13",
        "_cell_guid": "de221eea-d6bb-449f-96fc-6a2d3af3848b",
        "jupyter": {
          "outputs_hidden": false
        },
        "execution": {
          "iopub.status.busy": "2024-05-26T18:03:41.443688Z",
          "iopub.execute_input": "2024-05-26T18:03:41.444086Z",
          "iopub.status.idle": "2024-05-26T18:03:52.153039Z",
          "shell.execute_reply.started": "2024-05-26T18:03:41.443954Z",
          "shell.execute_reply": "2024-05-26T18:03:52.152249Z"
        },
        "trusted": true,
        "id": "vln271uxU3Fo"
      },
      "execution_count": null,
      "outputs": []
    },
    {
      "cell_type": "code",
      "source": [
        "history = model.fit(ds_train_fit,\n",
        "                    steps_per_epoch=280,\n",
        "                    epochs=10,\n",
        "                    validation_data=ds_valid_fit,\n",
        "                    validation_steps=2\n",
        "                   )"
      ],
      "metadata": {
        "_uuid": "f56aaf38-c80d-4ded-8ec0-196d0c387afa",
        "_cell_guid": "ad186ac3-730d-4226-8c90-223d798cdd7f",
        "jupyter": {
          "outputs_hidden": false
        },
        "execution": {
          "iopub.status.busy": "2024-05-26T18:03:52.156935Z",
          "iopub.execute_input": "2024-05-26T18:03:52.157206Z",
          "iopub.status.idle": "2024-05-26T19:10:02.528579Z",
          "shell.execute_reply.started": "2024-05-26T18:03:52.157165Z",
          "shell.execute_reply": "2024-05-26T19:10:02.527826Z"
        },
        "trusted": true,
        "id": "mqwggZMyU3Fo"
      },
      "execution_count": null,
      "outputs": []
    },
    {
      "cell_type": "code",
      "source": [
        "model.save('resnet.h5')"
      ],
      "metadata": {
        "_uuid": "3c27a423-23e1-4181-b458-bd91e6d89f80",
        "_cell_guid": "d0718502-8203-415c-b17b-0abbbac14eb6",
        "jupyter": {
          "outputs_hidden": false
        },
        "execution": {
          "iopub.status.busy": "2024-05-26T19:10:02.530143Z",
          "iopub.execute_input": "2024-05-26T19:10:02.530403Z",
          "iopub.status.idle": "2024-05-26T19:10:03.047823Z",
          "shell.execute_reply.started": "2024-05-26T19:10:02.530357Z",
          "shell.execute_reply": "2024-05-26T19:10:03.046874Z"
        },
        "trusted": true,
        "id": "_bG0X4mJU3Fo"
      },
      "execution_count": null,
      "outputs": []
    },
    {
      "cell_type": "code",
      "source": [
        "plot_learning_curves(history)"
      ],
      "metadata": {
        "_uuid": "137669a1-abfd-4ab2-8adf-df59df681f10",
        "_cell_guid": "8e215b64-1076-4d07-8874-082f644cdc85",
        "jupyter": {
          "outputs_hidden": false
        },
        "execution": {
          "iopub.status.busy": "2024-05-26T19:10:03.049517Z",
          "iopub.execute_input": "2024-05-26T19:10:03.049866Z",
          "iopub.status.idle": "2024-05-26T19:10:03.326158Z",
          "shell.execute_reply.started": "2024-05-26T19:10:03.049791Z",
          "shell.execute_reply": "2024-05-26T19:10:03.3251Z"
        },
        "trusted": true,
        "id": "vjF16bE2U3Fp"
      },
      "execution_count": null,
      "outputs": []
    },
    {
      "cell_type": "markdown",
      "source": [
        "## Segmentation"
      ],
      "metadata": {
        "_uuid": "39b9372b-b2c8-4c79-b6dd-93fbbfa59457",
        "_cell_guid": "20e11719-555f-41f6-bd16-025762e69484",
        "trusted": true,
        "id": "gmEjzjNvU3Fp"
      }
    },
    {
      "cell_type": "markdown",
      "source": [
        "This segmentation model uses a Unet from the excellent [qubvel/\n",
        "segmentation_models](https://github.com/qubvel/segmentation_models) repo, using the EfficientnetB2 cnn as the encoder. It also adds a layer after the segmentation output to calculate binary classification loss and then weights the segmentation and binary classification losses 4 to 1.\n",
        "\n",
        "I train this model for few epochs on the toy tfrecords and then load weights from a checkpoint after more extensive training to make predictions in the next section."
      ],
      "metadata": {
        "_uuid": "f4c080b8-c513-44f2-8209-4d349d4c74b7",
        "_cell_guid": "db3dec35-8d05-49c9-bdb5-c6be7206ef63",
        "trusted": true,
        "id": "x1gZGx5zU3Fp"
      }
    },
    {
      "cell_type": "code",
      "source": [
        "batch_size = 32\n",
        "image_size = (256, 256)\n",
        "n_frames = 1\n",
        "encoder_weights = 'imagenet'\n",
        "seq = False\n",
        "incl_mask = True\n",
        "\n",
        "ds_train = get_ds('train', batch_size=batch_size, n_frames=n_frames,\n",
        "                      seq=seq, incl_mask=incl_mask, shuffle=True)\n",
        "ds_valid = get_ds('valid', batch_size=batch_size, n_frames=n_frames,\n",
        "                      seq=seq, incl_mask=incl_mask)\n",
        "\n",
        "preprocess = get_preprocess_fn(encoder_weights, batch_size=batch_size, image_size=image_size,\n",
        "                               seq=seq, incl_mask=incl_mask)\n",
        "\n",
        "ds_train_fit = ds_train.map(preprocess, num_parallel_calls=AUTO)\n",
        "ds_valid_fit = ds_valid.map(preprocess, num_parallel_calls=AUTO)"
      ],
      "metadata": {
        "_uuid": "b8e00ead-f25b-4f63-b4ac-f68728161a21",
        "_cell_guid": "3d1c6048-b298-4606-803d-b0b377024bc1",
        "jupyter": {
          "outputs_hidden": false
        },
        "execution": {
          "iopub.status.busy": "2024-05-26T19:10:03.327805Z",
          "iopub.execute_input": "2024-05-26T19:10:03.3283Z",
          "iopub.status.idle": "2024-05-26T19:10:05.493578Z",
          "shell.execute_reply.started": "2024-05-26T19:10:03.328091Z",
          "shell.execute_reply": "2024-05-26T19:10:05.492587Z"
        },
        "trusted": true,
        "id": "BqGfXR-8U3Fp"
      },
      "execution_count": null,
      "outputs": []
    },
    {
      "cell_type": "code",
      "source": [
        "with strategy.scope():\n",
        "    class SegClassModel(tf.keras.Model):\n",
        "\n",
        "        def __init__(self):\n",
        "            super(SegClassModel, self).__init__()\n",
        "            self.seg_model = sm.Unet('efficientnetb2', encoder_weights=None, encoder_freeze=False)\n",
        "            self.pooling = tf.keras.layers.GlobalAvgPool2D()\n",
        "            self.flatten = tf.keras.layers.Flatten()\n",
        "            self.dense0 = tf.keras.layers.Dense(512, activation='selu', kernel_initializer=\"lecun_normal\")\n",
        "            self.dense1 = tf.keras.layers.Dense(512, activation='selu', kernel_initializer=\"lecun_normal\")\n",
        "            self.final = tf.keras.layers.Dense(1, activation='sigmoid', name='class_output')\n",
        "\n",
        "        def call(self, inputs):\n",
        "            seg_output = self.seg_model(inputs)\n",
        "            class_output = self.pooling(seg_output)\n",
        "            class_output = self.flatten(class_output)\n",
        "            class_output = self.dense0(class_output)\n",
        "            class_output = self.dense1(class_output)\n",
        "            class_output = self.final(class_output)\n",
        "\n",
        "            return seg_output, class_output\n",
        "\n",
        "    opt = tf.keras.optimizers.SGD(lr=0.0001, momentum=0.9)\n",
        "    seg_loss_fn = sm.losses.bce_jaccard_loss\n",
        "    class_loss_fn = tf.keras.losses.BinaryCrossentropy()\n",
        "\n",
        "    seg_metrics = [sm.metrics.iou_score]\n",
        "    class_metrics = [tf.keras.metrics.BinaryAccuracy()]\n",
        "\n",
        "    model = SegClassModel()\n",
        "\n",
        "    model.compile(loss=[seg_loss_fn, class_loss_fn],\n",
        "                  loss_weights=[4., 1.],\n",
        "                  optimizer=opt,\n",
        "                  metrics=[seg_metrics, class_metrics])\n",
        "\n",
        "    model.build((batch_size, *image_size, 3))\n",
        "model.summary()"
      ],
      "metadata": {
        "_uuid": "a0af39e9-f0ae-4b26-a0e0-242bb9cb4121",
        "_cell_guid": "5081a153-adb9-4fc7-9788-605a329e1dae",
        "jupyter": {
          "outputs_hidden": false
        },
        "execution": {
          "iopub.status.busy": "2024-05-26T19:10:05.495123Z",
          "iopub.execute_input": "2024-05-26T19:10:05.49536Z",
          "iopub.status.idle": "2024-05-26T19:10:11.20158Z",
          "shell.execute_reply.started": "2024-05-26T19:10:05.495319Z",
          "shell.execute_reply": "2024-05-26T19:10:11.200729Z"
        },
        "trusted": true,
        "id": "Bm4Ya3Y0U3Fq"
      },
      "execution_count": null,
      "outputs": []
    },
    {
      "cell_type": "code",
      "source": [
        "history = model.fit(ds_train_fit,\n",
        "                    steps_per_epoch=280,\n",
        "                    epochs=10,\n",
        "                    validation_data=ds_valid_fit,\n",
        "                    validation_steps=2\n",
        "                   )"
      ],
      "metadata": {
        "_uuid": "8283ffb5-3d23-4cf6-8e0b-05a1e5820a4d",
        "_cell_guid": "4df27a7c-e596-40bc-b484-ff5798c69b09",
        "jupyter": {
          "outputs_hidden": false
        },
        "execution": {
          "iopub.status.busy": "2024-05-26T19:10:11.203063Z",
          "iopub.execute_input": "2024-05-26T19:10:11.203359Z",
          "iopub.status.idle": "2024-05-26T19:47:40.633252Z",
          "shell.execute_reply.started": "2024-05-26T19:10:11.203307Z",
          "shell.execute_reply": "2024-05-26T19:47:40.63219Z"
        },
        "trusted": true,
        "id": "Xv9htGjaU3Fq"
      },
      "execution_count": null,
      "outputs": []
    },
    {
      "cell_type": "code",
      "source": [
        "plot_learning_curves(history)"
      ],
      "metadata": {
        "_uuid": "dfe11e3d-6210-4615-8bb3-9a212dc8bdb3",
        "_cell_guid": "851a7e16-9222-406a-95e2-d9d4e818e529",
        "jupyter": {
          "outputs_hidden": false
        },
        "execution": {
          "iopub.status.busy": "2024-05-26T19:47:40.634912Z",
          "iopub.execute_input": "2024-05-26T19:47:40.635234Z",
          "iopub.status.idle": "2024-05-26T19:47:41.131936Z",
          "shell.execute_reply.started": "2024-05-26T19:47:40.635177Z",
          "shell.execute_reply": "2024-05-26T19:47:41.131069Z"
        },
        "trusted": true,
        "id": "xqTyEk08U3Fq"
      },
      "execution_count": null,
      "outputs": []
    },
    {
      "cell_type": "markdown",
      "source": [
        "Load weights from checkpoint."
      ],
      "metadata": {
        "_uuid": "9bc46da7-1d0f-4b14-87ba-e33ed957254c",
        "_cell_guid": "5dc63ca4-5161-46f1-8c3d-c41b9dbc2f38",
        "trusted": true,
        "id": "NXXFmtJGU3Fq"
      }
    },
    {
      "cell_type": "code",
      "source": [
        "cp_dir = f'{DATASET_DIR}/seg_ckpt'\n",
        "cp_filename = f'{cp_dir}/cp-0023.ckpt'\n",
        "with strategy.scope():\n",
        "    model.load_weights(cp_filename)"
      ],
      "metadata": {
        "_uuid": "694d053b-42af-4ced-8278-57c861109cbb",
        "_cell_guid": "08ea389f-cdc7-4e9c-b1f5-4962ac87b39b",
        "jupyter": {
          "outputs_hidden": false
        },
        "execution": {
          "iopub.status.busy": "2024-05-26T19:47:41.133392Z",
          "iopub.execute_input": "2024-05-26T19:47:41.133651Z",
          "iopub.status.idle": "2024-05-26T19:47:43.012268Z",
          "shell.execute_reply.started": "2024-05-26T19:47:41.133601Z",
          "shell.execute_reply": "2024-05-26T19:47:43.011518Z"
        },
        "trusted": true,
        "id": "1s0Nnie1U3Fr"
      },
      "execution_count": null,
      "outputs": []
    },
    {
      "cell_type": "markdown",
      "source": [
        "# Predictions"
      ],
      "metadata": {
        "_uuid": "23ddfd22-e5ca-45de-9e24-78564e528c98",
        "_cell_guid": "6575a072-9cea-4a7f-948e-21e9bf07c364",
        "trusted": true,
        "id": "dHWiZjAAU3Fr"
      }
    },
    {
      "cell_type": "markdown",
      "source": [
        "For the sake of simplicity, I just use the validation set from the segmentation example above, but extend out the number of frames pulled for each video to 16 in order to improve prediction accuracy at the video level."
      ],
      "metadata": {
        "_uuid": "aa249340-d7e4-4291-8f80-ad5b367d0933",
        "_cell_guid": "2a0983e0-6591-46b7-aa44-7e4e9407384f",
        "trusted": true,
        "id": "XCHbORniU3Fr"
      }
    },
    {
      "cell_type": "code",
      "source": [
        "batch_size = 32\n",
        "image_size = (256, 256)\n",
        "n_frames = 16\n",
        "encoder_weights = 'imagenet'\n",
        "seq = False\n",
        "incl_mask = True\n",
        "\n",
        "ds_pred = get_ds('valid', batch_size=batch_size, n_frames=n_frames,\n",
        "                      seq=seq, incl_mask=incl_mask).take(32)\n",
        "\n",
        "preprocess_pred = get_preprocess_fn(encoder_weights, batch_size=batch_size, image_size=image_size,\n",
        "                               seq=seq, incl_mask=incl_mask)\n",
        "\n",
        "ds_pred_pp = ds_pred.map(preprocess_pred)"
      ],
      "metadata": {
        "_uuid": "88d72e17-44f9-4923-8962-ef838bbe0a50",
        "_cell_guid": "fef3bf44-c2b7-420b-9452-869d191bbf18",
        "jupyter": {
          "outputs_hidden": false
        },
        "execution": {
          "iopub.status.busy": "2024-05-26T19:47:43.013665Z",
          "iopub.execute_input": "2024-05-26T19:47:43.014Z",
          "iopub.status.idle": "2024-05-26T19:47:43.607503Z",
          "shell.execute_reply.started": "2024-05-26T19:47:43.013928Z",
          "shell.execute_reply": "2024-05-26T19:47:43.606805Z"
        },
        "trusted": true,
        "id": "suWYIAy-U3Fr"
      },
      "execution_count": null,
      "outputs": []
    },
    {
      "cell_type": "code",
      "source": [
        "# make sure example order is deterministic so we can line up training data with predictions\n",
        "assert np.array_equal(np.concatenate([b['name'] for b in ds_pred.as_numpy_iterator()]),\n",
        "               np.concatenate([b['name'] for b in ds_pred.as_numpy_iterator()]))"
      ],
      "metadata": {
        "_uuid": "ff527825-958c-46b2-8dfb-281689764f45",
        "_cell_guid": "7fca65c8-909c-4724-a630-6f237929b25b",
        "jupyter": {
          "outputs_hidden": false
        },
        "execution": {
          "iopub.status.busy": "2024-05-26T19:47:43.608916Z",
          "iopub.execute_input": "2024-05-26T19:47:43.609173Z",
          "iopub.status.idle": "2024-05-26T19:47:45.479706Z",
          "shell.execute_reply.started": "2024-05-26T19:47:43.60913Z",
          "shell.execute_reply": "2024-05-26T19:47:45.478953Z"
        },
        "trusted": true,
        "id": "jkKNu3GjU3Fs"
      },
      "execution_count": null,
      "outputs": []
    },
    {
      "cell_type": "code",
      "source": [
        "predictions = model.predict(ds_pred_pp)\n",
        "name_list = []\n",
        "face_list = []\n",
        "frame_list = []\n",
        "mask_list = []\n",
        "for b in ds_pred.as_numpy_iterator():\n",
        "    face_list.extend(b['face'].squeeze())\n",
        "    name_list.extend(b['name'].squeeze())\n",
        "    if not seq:\n",
        "        frame_list.extend(b['idx'].squeeze())\n",
        "    if incl_mask:\n",
        "        b_pp = preprocess_pred(b)\n",
        "        mask_list.extend(b_pp[1][0].numpy().squeeze())"
      ],
      "metadata": {
        "_uuid": "7e4f659e-3dc5-456d-be5d-57ed6c59511f",
        "_cell_guid": "91b580bb-0287-4f16-8bdd-1d45f6bf49a6",
        "jupyter": {
          "outputs_hidden": false
        },
        "execution": {
          "iopub.status.busy": "2024-05-26T19:47:45.481543Z",
          "iopub.execute_input": "2024-05-26T19:47:45.481873Z",
          "iopub.status.idle": "2024-05-26T19:47:55.749462Z",
          "shell.execute_reply.started": "2024-05-26T19:47:45.481813Z",
          "shell.execute_reply": "2024-05-26T19:47:55.748562Z"
        },
        "trusted": true,
        "id": "7U_AqOIVU3Fs"
      },
      "execution_count": null,
      "outputs": []
    },
    {
      "cell_type": "code",
      "source": [
        "df_pred = pd.DataFrame({'name': [n.decode() for n in name_list]})\n",
        "\n",
        "if incl_mask:\n",
        "    df_pred['mask_pred'] = [m.squeeze() for m in predictions[0]]\n",
        "    df_pred['mask_actual'] = [m.squeeze() for m in mask_list]\n",
        "    df_pred['iou'] = df_pred.apply(iou, axis=1)\n",
        "    df_pred['prob'] = [p.squeeze() for p in predictions[1]]\n",
        "else:\n",
        "    def_pred['prob'] = predictions.squeeze()\n",
        "\n",
        "if not seq:\n",
        "    df_pred['frame'] = frame_list\n",
        "\n",
        "df_pred['face'] = face_list\n",
        "df_pred['actual'] = df_pred.name.map(df_meta.label_code)\n",
        "df_pred['label'] = df_pred.name.map(df_meta.label)\n",
        "df_pred['error'] = np.square(df_pred.actual - df_pred.prob)\n",
        "df_pred['prob_thresh'] = (df_pred.prob > 0.5).astype(int)"
      ],
      "metadata": {
        "_uuid": "61069c11-b958-425a-b515-0210f9e9aea1",
        "_cell_guid": "918ca4da-3fed-4d42-9df9-fbd4abe31e00",
        "jupyter": {
          "outputs_hidden": false
        },
        "execution": {
          "iopub.status.busy": "2024-05-26T19:47:55.750746Z",
          "iopub.execute_input": "2024-05-26T19:47:55.751017Z",
          "iopub.status.idle": "2024-05-26T19:48:04.303145Z",
          "shell.execute_reply.started": "2024-05-26T19:47:55.750952Z",
          "shell.execute_reply": "2024-05-26T19:48:04.302493Z"
        },
        "trusted": true,
        "id": "UaUfPIJpU3Fs"
      },
      "execution_count": null,
      "outputs": []
    },
    {
      "cell_type": "markdown",
      "source": [
        "## Face level classification"
      ],
      "metadata": {
        "_uuid": "24864a9a-9609-46f5-a982-0f912ac7b7df",
        "_cell_guid": "3b80816c-8b9c-49ee-8058-a94b6f493fb5",
        "trusted": true,
        "id": "i73DRG9SU3Fs"
      }
    },
    {
      "cell_type": "markdown",
      "source": [
        "This just takes every face that was predicted and calculates losses and classification metrics at the face level. The numbers here are obviously terrible since I couldn't make the underlying model work, but the predictions below, where the model got it right are pretty cool."
      ],
      "metadata": {
        "_uuid": "8366e70b-84af-40b3-9771-5744af282216",
        "_cell_guid": "591d5923-4e31-4252-8aa2-9962e28b6a15",
        "trusted": true,
        "id": "s5-Ql0g4U3Fs"
      }
    },
    {
      "cell_type": "code",
      "source": [
        "print_pred_metrics(df_pred.actual, df_pred.prob_thresh, df_pred.prob)"
      ],
      "metadata": {
        "_uuid": "c4b70cda-22b5-4725-a339-f42a79d18244",
        "_cell_guid": "15349ce4-3d7b-43ee-9980-1e1c6e7f1202",
        "jupyter": {
          "outputs_hidden": false
        },
        "execution": {
          "iopub.status.busy": "2024-05-26T19:48:04.304739Z",
          "iopub.execute_input": "2024-05-26T19:48:04.305053Z",
          "iopub.status.idle": "2024-05-26T19:48:04.444844Z",
          "shell.execute_reply.started": "2024-05-26T19:48:04.304986Z",
          "shell.execute_reply": "2024-05-26T19:48:04.443946Z"
        },
        "trusted": true,
        "id": "ubI7FgJJU3Ft"
      },
      "execution_count": null,
      "outputs": []
    },
    {
      "cell_type": "markdown",
      "source": [
        "Here are some examples of where the model got it right."
      ],
      "metadata": {
        "_uuid": "b07d0d27-a08f-4ccd-8782-cc1e48fdebb4",
        "_cell_guid": "45426daa-a076-4fd8-8469-2b318cabfd7d",
        "trusted": true,
        "id": "S1qv3hjCU3Ft"
      }
    },
    {
      "cell_type": "code",
      "source": [
        "for r in df_pred[df_pred.actual == 1].sort_values('error').to_records()[:5]:\n",
        "    show_pred(r)"
      ],
      "metadata": {
        "_uuid": "f9076ac5-e355-48be-b01f-b64aa6e1b0ec",
        "_cell_guid": "c2da92b6-ee58-48b4-9e2d-0299320b74ef",
        "jupyter": {
          "outputs_hidden": false
        },
        "execution": {
          "iopub.status.busy": "2024-05-26T19:48:04.446384Z",
          "iopub.execute_input": "2024-05-26T19:48:04.446698Z",
          "iopub.status.idle": "2024-05-26T19:48:05.576561Z",
          "shell.execute_reply.started": "2024-05-26T19:48:04.44664Z",
          "shell.execute_reply": "2024-05-26T19:48:05.57574Z"
        },
        "trusted": true,
        "id": "iRXz8YfOU3Ft"
      },
      "execution_count": null,
      "outputs": []
    },
    {
      "cell_type": "markdown",
      "source": [
        "## Video level classification"
      ],
      "metadata": {
        "_uuid": "a2a71697-fc1d-430c-940c-9781d2d0b2af",
        "_cell_guid": "a571c448-c7b2-4212-984a-f9db608d8a29",
        "trusted": true,
        "id": "JCynuYFEU3Ft"
      }
    },
    {
      "cell_type": "markdown",
      "source": [
        "This section would get used when running models on individual faces predictions for multiple faces for each video being made. It aggregates together the frames by video and then determines whether a video should be classified as fake if it had a specified number of frames with a predicted probability over a specified frame level probability."
      ],
      "metadata": {
        "_uuid": "ef33c52b-9705-4f6f-8c9c-51c9a235b486",
        "_cell_guid": "f7adcc70-0ca4-4cce-aba6-e5b481395c79",
        "trusted": true,
        "id": "xMxoAklwU3Ft"
      }
    },
    {
      "cell_type": "code",
      "source": [
        "vid_prob_thresh = 0.8\n",
        "frame_thresh = 3\n",
        "df_pred['vid_prob_thresh'] = (df_pred.prob > vid_prob_thresh).astype(int)"
      ],
      "metadata": {
        "_uuid": "171c0de6-3505-40b5-b1db-e6e19f35d934",
        "_cell_guid": "87661d5f-3ebe-424b-9c2a-c5a09a65e8e6",
        "jupyter": {
          "outputs_hidden": false
        },
        "execution": {
          "iopub.status.busy": "2024-05-26T19:48:05.578219Z",
          "iopub.execute_input": "2024-05-26T19:48:05.578864Z",
          "iopub.status.idle": "2024-05-26T19:48:05.645156Z",
          "shell.execute_reply.started": "2024-05-26T19:48:05.578804Z",
          "shell.execute_reply": "2024-05-26T19:48:05.644387Z"
        },
        "trusted": true,
        "id": "E12j9DksU3Fu"
      },
      "execution_count": null,
      "outputs": []
    },
    {
      "cell_type": "code",
      "source": [
        "df_pred_vid = df_pred.groupby(['name']).agg({'actual': 'max', 'vid_prob_thresh': 'sum'})\n",
        "df_pred_vid['vid_frame_thresh'] = (df_pred_vid.vid_prob_thresh > frame_thresh).astype(int)\n",
        "df_pred_vid['vid_prob'] = (df_pred_vid.vid_prob_thresh / (frame_thresh * 1.5)).clip(0.05, 0.95)"
      ],
      "metadata": {
        "_uuid": "aec2588d-f93b-461a-a75f-f10cd7718cb9",
        "_cell_guid": "90b83fba-7587-450a-90fd-fe12aa6b7e92",
        "jupyter": {
          "outputs_hidden": false
        },
        "execution": {
          "iopub.status.busy": "2024-05-26T19:48:05.648991Z",
          "iopub.execute_input": "2024-05-26T19:48:05.649324Z",
          "iopub.status.idle": "2024-05-26T19:48:05.723826Z",
          "shell.execute_reply.started": "2024-05-26T19:48:05.649261Z",
          "shell.execute_reply": "2024-05-26T19:48:05.723116Z"
        },
        "trusted": true,
        "id": "LPPuVlhjU3Fu"
      },
      "execution_count": null,
      "outputs": []
    },
    {
      "cell_type": "code",
      "source": [
        "print_pred_metrics(df_pred_vid.actual, df_pred_vid.vid_frame_thresh, df_pred_vid.vid_prob)"
      ],
      "metadata": {
        "_uuid": "fda44d9c-efdd-4949-af41-d2f621920266",
        "_cell_guid": "2fe56518-1a3b-4cf1-b201-a955dab63b6a",
        "jupyter": {
          "outputs_hidden": false
        },
        "execution": {
          "iopub.status.busy": "2024-05-26T19:48:05.725215Z",
          "iopub.execute_input": "2024-05-26T19:48:05.725706Z",
          "iopub.status.idle": "2024-05-26T19:48:05.849668Z",
          "shell.execute_reply.started": "2024-05-26T19:48:05.725442Z",
          "shell.execute_reply": "2024-05-26T19:48:05.84875Z"
        },
        "trusted": true,
        "id": "YG3x_ORZU3Fu"
      },
      "execution_count": null,
      "outputs": []
    },
    {
      "cell_type": "markdown",
      "source": [
        "## Commit"
      ],
      "metadata": {
        "_uuid": "3f02e3e9-dc75-4b38-806c-3b68d305c8ed",
        "_cell_guid": "3a7b1461-c113-4093-8c56-f790d98423fd",
        "trusted": true,
        "id": "Ef2EQZleU3Fu"
      }
    },
    {
      "cell_type": "markdown",
      "source": [
        "### Update Dataset"
      ],
      "metadata": {
        "_uuid": "a32a0e61-ebaa-45fe-843c-ff1f34b33c74",
        "_cell_guid": "b7d8c940-9b19-4fbe-980f-37508430407b",
        "trusted": true,
        "id": "LnC9EDV3U3Fu"
      }
    },
    {
      "cell_type": "code",
      "source": [
        "if False:\n",
        "    if not KAGGLE:\n",
        "        print_output(run_command(f'kaggle d version -r tar -p {DATASET_DIR} -m \"added dependencies\"'))"
      ],
      "metadata": {
        "_uuid": "2f7aeadc-af59-4573-bd36-c493f827bfef",
        "_cell_guid": "60e1badb-387b-4736-91d9-d25b505665b0",
        "jupyter": {
          "outputs_hidden": false
        },
        "execution": {
          "iopub.status.busy": "2024-05-26T19:48:05.851205Z",
          "iopub.execute_input": "2024-05-26T19:48:05.851565Z",
          "iopub.status.idle": "2024-05-26T19:48:05.911665Z",
          "shell.execute_reply.started": "2024-05-26T19:48:05.851501Z",
          "shell.execute_reply": "2024-05-26T19:48:05.910728Z"
        },
        "trusted": true,
        "id": "1H_VSewaU3Fv"
      },
      "execution_count": null,
      "outputs": []
    },
    {
      "cell_type": "markdown",
      "source": [
        "### Save Notebook"
      ],
      "metadata": {
        "_uuid": "9c72b191-4f02-44f1-bef2-17f5a8b94516",
        "_cell_guid": "04ed677c-ed7f-4133-94b0-d01fd7df8133",
        "trusted": true,
        "id": "wzIL-JtVU3Fv"
      }
    },
    {
      "cell_type": "code",
      "source": [
        "%%javascript\n",
        "IPython.notebook.save_notebook()"
      ],
      "metadata": {
        "_uuid": "02e439fe-ff17-4f27-96dc-ea1208325624",
        "_cell_guid": "1c6fe504-3263-480e-b291-4a61f74d3661",
        "jupyter": {
          "outputs_hidden": false
        },
        "execution": {
          "iopub.status.busy": "2024-05-26T19:48:05.913314Z",
          "iopub.execute_input": "2024-05-26T19:48:05.913654Z",
          "iopub.status.idle": "2024-05-26T19:48:05.974504Z",
          "shell.execute_reply.started": "2024-05-26T19:48:05.913591Z",
          "shell.execute_reply": "2024-05-26T19:48:05.973715Z"
        },
        "trusted": true,
        "id": "4E9gIpAoU3Fv"
      },
      "execution_count": null,
      "outputs": []
    },
    {
      "cell_type": "markdown",
      "source": [
        "### Commit Kernel"
      ],
      "metadata": {
        "_uuid": "68e7041e-0f85-4cf2-9261-1bc6d7b739d8",
        "_cell_guid": "cc51e00b-0cec-46d5-8dc8-b078785b9a91",
        "trusted": true,
        "id": "nG4a07WCU3Fv"
      }
    },
    {
      "cell_type": "code",
      "source": [
        "if True:\n",
        "    if not KAGGLE:\n",
        "\n",
        "        data = {'id': 'calebeverett/dfdc-novice-approach',\n",
        "                      'title': 'dfdc-novice-approach',\n",
        "                      'code_file': 'dfdc-novice-approach.ipynb',\n",
        "                      'language': 'python',\n",
        "                      'kernel_type': 'notebook',\n",
        "                      'is_private': 'false',\n",
        "                      'enable_gpu': 'false',\n",
        "                      'enable_internet': 'false',\n",
        "                      'dataset_sources': ['calebeverett/dfdc-na'],\n",
        "                      'competition_sources': ['deepfake-detection-challenge'],\n",
        "                     ' kernel_sources': []}\n",
        "\n",
        "        with open('kernel-metadata.json', 'w') as f:\n",
        "            json.dump(data, f)\n",
        "\n",
        "        print_output(run_command('kaggle k push'))"
      ],
      "metadata": {
        "_uuid": "6fccbe55-aa84-4b55-a96e-573f4ebebc6f",
        "_cell_guid": "affc023f-4d60-431d-8850-61b7ae246d99",
        "jupyter": {
          "outputs_hidden": false
        },
        "execution": {
          "iopub.status.busy": "2024-05-26T19:48:05.976106Z",
          "iopub.execute_input": "2024-05-26T19:48:05.976378Z",
          "iopub.status.idle": "2024-05-26T19:48:06.037695Z",
          "shell.execute_reply.started": "2024-05-26T19:48:05.976328Z",
          "shell.execute_reply": "2024-05-26T19:48:06.037051Z"
        },
        "trusted": true,
        "id": "qmovFoLTU3Fv"
      },
      "execution_count": null,
      "outputs": []
    },
    {
      "cell_type": "code",
      "source": [
        "import cv2\n",
        "import numpy as np\n",
        "from tensorflow.keras.models import load_model\n",
        "\n",
        "# Load the pre-trained model\n",
        "model = load_model('/kaggle/working/my_cnn_model.h5')\n",
        "\n",
        "# Define the preprocess function\n",
        "def preprocess(frame):\n",
        "    # Resize the frame to match the input size of your model\n",
        "    frame = cv2.resize(frame, (260, 260))\n",
        "\n",
        "    # Convert the frame to float32\n",
        "    frame = frame.astype(np.float32)\n",
        "\n",
        "    # Perform mean subtraction (if applicable)\n",
        "    # Replace 'mean_values' with the actual mean values used during training\n",
        "    mean_values = [123.68, 116.78, 103.94]  # Example mean values for RGB channels\n",
        "    frame -= mean_values\n",
        "\n",
        "    # Normalize the pixel values to the range [0, 1]\n",
        "    frame = frame / 255.0\n",
        "\n",
        "    # You might need additional preprocessing steps based on how the model was trained\n",
        "    # For example, channel-wise normalization, data augmentation, etc.\n",
        "\n",
        "    return frame\n",
        "\n",
        "# Load the video file\n",
        "video_path = '/kaggle/input/deepfake-detection-challenge/test_videos/aassnaulhq.mp4'\n",
        "cap = cv2.VideoCapture(video_path)\n",
        "\n",
        "# Get video details\n",
        "fps = cap.get(cv2.CAP_PROP_FPS)\n",
        "width = int(cap.get(cv2.CAP_PROP_FRAME_WIDTH))\n",
        "height = int(cap.get(cv2.CAP_PROP_FRAME_HEIGHT))\n",
        "\n",
        "# Create VideoWriter object to save the output video\n",
        "output_path = '/kaggle/working/output_video.mp4'\n",
        "fourcc = cv2.VideoWriter_fourcc(*'mp4v')\n",
        "out = cv2.VideoWriter(output_path, fourcc, fps, (width, height))\n",
        "\n",
        "# Process each frame in the video\n",
        "while True:\n",
        "    ret, frame = cap.read()\n",
        "    if not ret:\n",
        "        break\n",
        "\n",
        "    # Preprocess the frame\n",
        "    preprocessed_frame = preprocess(frame)\n",
        "\n",
        "    # Make predictions using the model\n",
        "    # Replace this with your actual prediction logic based on your model\n",
        "    prediction = model.predict(np.expand_dims(preprocessed_frame, axis=0))[0]\n",
        "\n",
        "    # Visualize or post-process the prediction as needed\n",
        "    # Replace this with your actual post-processing logic\n",
        "\n",
        "    # Write the frame to the output video\n",
        "    out.write(frame)\n",
        "\n",
        "# Release video capture and writer objects\n",
        "cap.release()\n",
        "out.release()"
      ],
      "metadata": {
        "_uuid": "4aee3db7-45f0-4108-8508-0af19d987866",
        "_cell_guid": "45c7493a-15ca-4151-b9b4-706dcac668ca",
        "jupyter": {
          "outputs_hidden": false
        },
        "execution": {
          "iopub.status.busy": "2024-05-26T19:48:06.039193Z",
          "iopub.execute_input": "2024-05-26T19:48:06.039501Z",
          "iopub.status.idle": "2024-05-26T19:48:57.610039Z",
          "shell.execute_reply.started": "2024-05-26T19:48:06.039439Z",
          "shell.execute_reply": "2024-05-26T19:48:57.609034Z"
        },
        "trusted": true,
        "id": "MJ16YwNjU3Fw"
      },
      "execution_count": null,
      "outputs": []
    },
    {
      "cell_type": "code",
      "source": [
        "import cv2\n",
        "import numpy as np\n",
        "from tensorflow.keras.models import load_model\n",
        "\n",
        "# Load the pre-trained model\n",
        "model = load_model('/kaggle/working/my_cnn_model.h5')\n",
        "\n",
        "# Define the preprocess function\n",
        "def preprocess(frame):\n",
        "    # Resize the frame to match the input size of your model\n",
        "    frame = cv2.resize(frame, (260, 260))\n",
        "\n",
        "    # Convert the frame to float32\n",
        "    frame = frame.astype(np.float32)\n",
        "\n",
        "    # Perform mean subtraction (if applicable)\n",
        "    # Replace 'mean_values' with the actual mean values used during training\n",
        "    mean_values = [123.68, 116.78, 103.94]  # Example mean values for RGB channels\n",
        "    frame -= mean_values\n",
        "\n",
        "    # Normalize the pixel values to the range [0, 1]\n",
        "    frame = frame / 255.0\n",
        "\n",
        "    # You might need additional preprocessing steps based on how the model was trained\n",
        "    # For example, channel-wise normalization, data augmentation, etc.\n",
        "\n",
        "    return frame\n",
        "\n",
        "# Load the video file\n",
        "video_path = '/kaggle/input/deepfake-detection-challenge/test_videos/ahjnxtiamx.mp4'\n",
        "cap = cv2.VideoCapture(video_path)\n",
        "\n",
        "# Get video details\n",
        "fps = cap.get(cv2.CAP_PROP_FPS)\n",
        "width = int(cap.get(cv2.CAP_PROP_FRAME_WIDTH))\n",
        "height = int(cap.get(cv2.CAP_PROP_FRAME_HEIGHT))\n",
        "\n",
        "# Create VideoWriter object to save the output video\n",
        "output_path = '/kaggle/working/output_videoo.mp4'\n",
        "fourcc = cv2.VideoWriter_fourcc(*'mp4v')\n",
        "out = cv2.VideoWriter(output_path, fourcc, fps, (width, height))\n",
        "\n",
        "# Process each frame in the video\n",
        "while True:\n",
        "    ret, frame = cap.read()\n",
        "    if not ret:\n",
        "        break\n",
        "\n",
        "    # Preprocess the frame\n",
        "    preprocessed_frame = preprocess(frame)\n",
        "\n",
        "    # Make predictions using the model\n",
        "    # Replace this with your actual prediction logic based on your model\n",
        "    prediction = model.predict(np.expand_dims(preprocessed_frame, axis=0))[0]\n",
        "\n",
        "    # Get the prediction result (assuming binary classification, adjust as needed)\n",
        "    result = \"Real\" if prediction[0] > 0.5 else \"Fake\"\n",
        "\n",
        "    # Display the prediction result on the frame\n",
        "    cv2.putText(frame, f\"Prediction: {result}\", (10, 30), cv2.FONT_HERSHEY_SIMPLEX, 1, (0, 255, 0), 2)\n",
        "\n",
        "    # Write the frame to the output video\n",
        "    out.write(frame)\n",
        "\n",
        "# Release video capture and writer objects\n",
        "cap.release()\n",
        "out.release()"
      ],
      "metadata": {
        "_uuid": "cf07aec5-eacf-4933-bc83-a19bb5e95636",
        "_cell_guid": "50c0314d-c458-43ab-8318-964b64909300",
        "jupyter": {
          "outputs_hidden": false
        },
        "execution": {
          "iopub.status.busy": "2024-05-26T19:48:57.611659Z",
          "iopub.execute_input": "2024-05-26T19:48:57.611944Z",
          "iopub.status.idle": "2024-05-26T19:49:50.375945Z",
          "shell.execute_reply.started": "2024-05-26T19:48:57.611891Z",
          "shell.execute_reply": "2024-05-26T19:49:50.375269Z"
        },
        "trusted": true,
        "id": "JySewDopU3Fw"
      },
      "execution_count": null,
      "outputs": []
    },
    {
      "cell_type": "code",
      "source": [
        "import cv2\n",
        "import numpy as np\n",
        "from tensorflow.keras.models import load_model\n",
        "\n",
        "def predict_fake_or_real(video_path):\n",
        "    # Load the pre-trained model\n",
        "    model = load_model('/kaggle/working/my_cnn_model.h5')\n",
        "\n",
        "    # Define the preprocess function\n",
        "    def preprocess(frame):\n",
        "        # Resize the frame to match the input size of your model\n",
        "        frame = cv2.resize(frame, (260, 260))\n",
        "\n",
        "        # Convert the frame to float32\n",
        "        frame = frame.astype(np.float32)\n",
        "\n",
        "        # Perform mean subtraction (if applicable)\n",
        "        # Replace 'mean_values' with the actual mean values used during training\n",
        "        mean_values = [123.68, 116.78, 103.94]  # Example mean values for RGB channels\n",
        "        frame -= mean_values\n",
        "\n",
        "        # Normalize the pixel values to the range [0, 1]\n",
        "        frame = frame / 255.0\n",
        "\n",
        "        # You might need additional preprocessing steps based on how the model was trained\n",
        "        # For example, channel-wise normalization, data augmentation, etc.\n",
        "\n",
        "        return frame\n",
        "\n",
        "    # Open the video file\n",
        "    cap = cv2.VideoCapture(video_path)\n",
        "\n",
        "    # Variables to keep track of frame counts\n",
        "    total_frames = 0\n",
        "    fake_frames = 0\n",
        "\n",
        "    # Process each frame in the video\n",
        "    while True:\n",
        "        ret, frame = cap.read()\n",
        "        if not ret:\n",
        "            break\n",
        "\n",
        "        # Preprocess the frame\n",
        "        preprocessed_frame = preprocess(frame)\n",
        "\n",
        "        # Make predictions using the model\n",
        "        # Replace this with your actual prediction logic based on your model\n",
        "        prediction = model.predict(np.expand_dims(preprocessed_frame, axis=0))[0]\n",
        "\n",
        "        # Update frame counts\n",
        "        total_frames += 1\n",
        "        fake_frames += prediction[0]  # Assuming the first element is the \"Fake\" probability\n",
        "\n",
        "    # Release video capture object\n",
        "    cap.release()\n",
        "\n",
        "    # Calculate percentages\n",
        "    real_percentage = (total_frames - fake_frames) / total_frames * 100\n",
        "    fake_percentage = fake_frames / total_frames * 100\n",
        "\n",
        "    # Determine the class with the higher percentage\n",
        "    if real_percentage > fake_percentage:\n",
        "        return \"Real\"\n",
        "    else:\n",
        "        return \"Fake\"\n",
        "\n",
        "# Example usage:\n",
        "video_file_path = '/kaggle/input/deepfake-detection-challenge/test_videos/bvpeerislp.mp4'\n",
        "result = predict_fake_or_real(video_file_path)\n",
        "print(f\"Output: {result}\")"
      ],
      "metadata": {
        "_uuid": "da7d0f51-fba9-4715-812e-6667c490864f",
        "_cell_guid": "528ce228-668b-4bc5-a4ab-65abba4ef014",
        "jupyter": {
          "outputs_hidden": false
        },
        "trusted": true,
        "id": "2mqoip0hU3Fw"
      },
      "execution_count": null,
      "outputs": []
    }
  ]
}